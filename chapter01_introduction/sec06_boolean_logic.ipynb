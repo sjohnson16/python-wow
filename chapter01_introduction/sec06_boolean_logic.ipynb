{
 "cells": [
  {
   "cell_type": "markdown",
   "metadata": {},
   "source": [
    "## Boolean logic\n",
    "\n",
    "Boolean values are useful because we use them \n",
    "to perform Boolean arithmetic,\n",
    "which should be familiar to you from high school\n",
    "as the basic logic operations.\n",
    "\n",
    "These are operations that operate on Boolean values as inputs\n",
    "and produce Boolean values as outputs. \n",
    "Among these are the familiar `not`, `and`, and `or` operations:"
   ]
  },
  {
   "cell_type": "code",
   "execution_count": null,
   "metadata": {},
   "outputs": [],
   "source": [
    "p = True\n",
    "q = False\n",
    "\n",
    "print(\"The not opeprator\")\n",
    "print(\"not p: \", not p)\n",
    "print(\"not q: \", not q)\n",
    "\n",
    "print(\"\\nThe and opeprator\")\n",
    "print(\"p and p: \", p and p)\n",
    "print(\"p and q: \", p and q)\n",
    "print(\"q and q: \", q and q)\n",
    "\n",
    "print(\"\\nThe or opeprator\")\n",
    "print(\"p or p: \", p or p)\n",
    "print(\"p or q: \", p or q)\n",
    "print(\"q or q: \", q or q)\n"
   ]
  },
  {
   "cell_type": "markdown",
   "metadata": {},
   "source": [
    "From these operations, it's trivial to define any other Boolean operation, for example *exclusive or*, *nand*, or *implies*."
   ]
  },
  {
   "cell_type": "markdown",
   "metadata": {},
   "source": [
    "## Comparisons\n",
    "\n",
    "We also often use operators that act upon non-Boolean inputs (say strings or numbers) \n",
    "but that produce Boolean values as outputs.\n",
    "\n",
    "Perhaps the most straightforward relational operators \n",
    "are those for testing equality (`==`) and for testing inequality (`!=`)."
   ]
  },
  {
   "cell_type": "code",
   "execution_count": null,
   "metadata": {},
   "outputs": [],
   "source": [
    "# Testing equality\n",
    "print(\"'a' == 'b': \\t\", 'a' == 'b')\n",
    "\n",
    "# Not equal to\n",
    "print(\"'a' != 'b': \\t\", 'a' != 'b')"
   ]
  },
  {
   "cell_type": "markdown",
   "metadata": {},
   "source": [
    "Note that these operators are defined over many object types.\n",
    "Above we tested the equality of strings but we can just \n",
    "as easily test the equality of numbers:"
   ]
  },
  {
   "cell_type": "code",
   "execution_count": null,
   "metadata": {},
   "outputs": [],
   "source": [
    "# Testing equality\n",
    "print(\"5 == 5: \\t\", 5 == 5)\n",
    "print(\"5 == 5.0: \\t\", 5 == 5.0)\n",
    "print(\"5 == 5.1: \\t\", 5 == 5.1)\n",
    "\n",
    "# Not equal to\n",
    "print(\"5 != 5: \\t\", 5 != 5)\n",
    "print(\"5 != 5.0: \\t\", 5 != 5.0)\n",
    "print(\"5 != 5.1: \\t\", 5 != 5.1)"
   ]
  },
  {
   "cell_type": "markdown",
   "metadata": {},
   "source": [
    "Given numerical values, we often want to test not just \n",
    "whether the two have the exact same value \n",
    "but rather one is greater than the other. \n",
    "The relational operators act upon numbers as inputs\n",
    "and produce Boolean values as outputs:"
   ]
  },
  {
   "cell_type": "code",
   "execution_count": null,
   "metadata": {},
   "outputs": [],
   "source": [
    "# Greater than\n",
    "print(\"5 > 6:\\t\\t\", 5 > 6)\n",
    "\n",
    "# Greater than or equal to\n",
    "print(\"5 >= 5:\\t\\t\", 5 >= 5)\n",
    "\n",
    "# Less than\n",
    "print(\"5 < 6:\\t\\t\", 5 < 6)\n",
    "\n",
    "# Less than or equals\n",
    "print(\"5 <= 5:\\t\\t\", 5 <= 5)"
   ]
  }
 ],
 "metadata": {
  "kernelspec": {
   "display_name": "Python 3",
   "language": "python",
   "name": "python3"
  },
  "language_info": {
   "codemirror_mode": {
    "name": "ipython",
    "version": 3
   },
   "file_extension": ".py",
   "mimetype": "text/x-python",
   "name": "python",
   "nbconvert_exporter": "python",
   "pygments_lexer": "ipython3",
   "version": "3.7.4"
  }
 },
 "nbformat": 4,
 "nbformat_minor": 2
}
