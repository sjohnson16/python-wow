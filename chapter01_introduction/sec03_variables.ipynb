{
 "cells": [
  {
   "cell_type": "markdown",
   "metadata": {},
   "source": [
    "# Variables\n",
    "\n",
    "Now that you have a grasp on *literals*, \n",
    "it's worth asking---how else can we refer \n",
    "to objects besides hard-coding the values as literals?\n",
    "If all values manipulated in a program were *literals*,\n",
    "Then it would be rather difficult \n",
    "to make programs that behaved differntly\n",
    "in different situations. \n",
    "All of the values that they needed to access \n",
    "would be hard-coded in our program's instructions. \n",
    "Programming would be like using a calculator. \n",
    "Every program would run the same way every time \n",
    "because all the values were hard-coded!\n",
    "\n",
    "One alternative is to store values in *variables*.\n",
    "This simple abstraction is going to make it easy \n",
    "to write flexible, complex programs.\n",
    "A variable is simply a placeholder that allows us\n",
    "to work with symbols that point to values \n",
    "rather than with the values themselves. \n",
    "\n",
    "## Assignment\n",
    "\n",
    "In programming, ***assignment*** refers to the act \n",
    "of associating a *value* with a specific *variable*. \n",
    "The assigned value here could be a literal,\n",
    "but we could also be passing along the value \n",
    "already associated with a different variable.\n",
    "Rather than sucking up too much air talking about assignment, \n",
    "let's just go ahead and do it first:"
   ]
  },
  {
   "cell_type": "code",
   "execution_count": null,
   "metadata": {},
   "outputs": [],
   "source": [
    "my_variable = \"Hello\""
   ]
  },
  {
   "cell_type": "markdown",
   "metadata": {},
   "source": [
    "So what happened here? Basically,\n",
    "you can think of the assignment operator `=`\n",
    "as a procedure that works as follows:\n",
    " * First, it evaluates the expression on the right hand side (RHS) of the assignment operator `=` (in this case, it is simply the *literal* `\"Hello\"`).\n",
    " * Second, it associates that value with the variable whose name is given on the left-hand side (LHS), here `my_variable`.\n",
    "\n",
    "Note that unlike in some other languages,\n",
    "the variable on the left hand side \n",
    "need not already be declared in our program.\n",
    "If we place any valid variable name (cannot be a Python reserved word),\n",
    "then Python will create a new variable \n",
    "if one with this name doesn't already exist.\n",
    " \n",
    "Once the assignment of the value to the variable has executed, \n",
    "we can subsequently access the value \n",
    "via the associated variable `my_variable`.\n",
    "Thus we need not copy the same literal throughout the code redundantly."
   ]
  },
  {
   "cell_type": "code",
   "execution_count": null,
   "metadata": {},
   "outputs": [],
   "source": [
    "print(my_variable)"
   ]
  },
  {
   "cell_type": "markdown",
   "metadata": {},
   "source": [
    "## Cutting down on redundancy\n",
    "Imagine, for example, that we wanted to greet several people. "
   ]
  },
  {
   "cell_type": "code",
   "execution_count": null,
   "metadata": {},
   "outputs": [],
   "source": [
    "print(\"Hello\", \"Alex\")\n",
    "print(\"Hello\", \"Bob\")\n",
    "print(\"Hello\", \"Courtney\")\n",
    "print(\"Hello\", \"Dasha\")\n",
    "print(\"Hello\", \"Elouise\")\n",
    "print(\"Hello\", \"Fanny\")\n",
    "print(\"Hello\", \"Gal\")"
   ]
  },
  {
   "cell_type": "markdown",
   "metadata": {},
   "source": [
    "If we now wanted to change our program \n",
    "to use the more colloquial greeting \"Yo\",\n",
    "we would have to edit every line in the program.\n",
    "If instead we had assigned the greeting to a variable, \n",
    "we would only have to change one line.\n",
    "Experiment below by changing the greeting."
   ]
  },
  {
   "cell_type": "code",
   "execution_count": null,
   "metadata": {},
   "outputs": [],
   "source": [
    "greeting = \"Yo\"\n",
    "print(greeting, \"Alex\")\n",
    "print(greeting, \"Bob\")\n",
    "print(greeting, \"Courtney\")\n",
    "print(greeting, \"Dasha\")\n",
    "print(greeting, \"Elouise\")\n",
    "print(greeting, \"Fanny\")\n",
    "print(greeting, \"Gal\")"
   ]
  },
  {
   "cell_type": "markdown",
   "metadata": {},
   "source": [
    "As we discussed above, unlike in some other languages,\n",
    "we didn't have to do anything special \n",
    "to allocate the memory that `my_variable` requires. \n",
    "We also didn't need to specify in advance \n",
    "what *type* `my_variable` should store.\n",
    "\n",
    "Also, you needn't assign a variable \n",
    "by providing a literal on the RHS. \n",
    "For starters, we can use another variable. \n",
    "Let's assign the content of `my_variable` to `my_other_variable`."
   ]
  },
  {
   "cell_type": "code",
   "execution_count": null,
   "metadata": {},
   "outputs": [],
   "source": [
    "my_other_variable = my_variable\n",
    "print(my_other_variable)"
   ]
  },
  {
   "cell_type": "markdown",
   "metadata": {},
   "source": [
    "This allows us to write complex piece of software \n",
    "that can act on any of a range of inputs.\n",
    "We can define the inputs at the top of the program,\n",
    "or pass them in as command line arguments,\n",
    "or even solicit them interactively,\n",
    "by using the `input` function \n",
    "(this tends to be more useful for a command line script than in Jupyter)."
   ]
  },
  {
   "cell_type": "code",
   "execution_count": null,
   "metadata": {},
   "outputs": [],
   "source": [
    "age = input(\"What's your age?\")\n",
    "print(\"Your age is:\", age)"
   ]
  },
  {
   "cell_type": "markdown",
   "metadata": {},
   "source": [
    "### Re-assignment\n",
    "\n",
    "One natural question might be whether, \n",
    "once we assign a value to a variable, \n",
    "we can change the value of that variable.\n",
    "Some languages mainly functional programming languages like Haskell,\n",
    "which are very popular among programming languages professors\n",
    "but not widely used by ordinary humans do not permit this.\n",
    "While Python incorporates some ideas functional programming,\n",
    "in general, people use Python in the imperative style,\n",
    "which means, among other things, \n",
    "that we can *mutate* the values of variables.\n",
    "\n",
    "To mutate the value of `my_variable`, \n",
    "we can simply execute another assignment:"
   ]
  },
  {
   "cell_type": "code",
   "execution_count": null,
   "metadata": {},
   "outputs": [],
   "source": [
    "my_variable = \"你好\"\n",
    "print(\"my_variable: \", my_variable)\n",
    "print(\"my_other_variable: \", my_other_variable)"
   ]
  },
  {
   "cell_type": "markdown",
   "metadata": {},
   "source": [
    "Notice that updating `my_variable` did not change \n",
    "the value of `my_other_variable` which had already been assigned. \n",
    "This is an important behavior to take notice of. \n",
    "In general, assigning variables to other variables \n",
    "will lead to *making a copy* \n",
    "when the passed value is a primitive type. \n",
    "However, things will get more complicated \n",
    "when we start talking about other more complicated objects. \n",
    "\n",
    "## What can be a variable?\n",
    "You might be wondering just what can be stored in a variable? \n",
    "So far we've only stuck strings in variables. \n",
    "In short, any Python object can be referenced by a variable.\n",
    "And nearly everything in Python is an object! \n",
    "\n",
    "We can store numbers in variables:"
   ]
  },
  {
   "cell_type": "code",
   "execution_count": null,
   "metadata": {},
   "outputs": [],
   "source": [
    "x = 5\n",
    "y = 8 \n",
    "print(x + y)"
   ]
  },
  {
   "cell_type": "markdown",
   "metadata": {},
   "source": [
    "We can store Booleans in variables:"
   ]
  },
  {
   "cell_type": "code",
   "execution_count": null,
   "metadata": {},
   "outputs": [],
   "source": [
    "p = True\n",
    "q = False\n",
    "print(p and q)"
   ]
  },
  {
   "cell_type": "markdown",
   "metadata": {},
   "source": [
    "And we can even assign functions to variables!"
   ]
  },
  {
   "cell_type": "code",
   "execution_count": null,
   "metadata": {},
   "outputs": [],
   "source": [
    "zacks_print_function = print\n",
    "zacks_print_function(\"Finally, a more elegantly named print function.\")\n",
    "zacks_print_function(my_variable, my_other_variable)\n",
    "zacks_print_function(x+y)\n",
    "zacks_print_function(p and q)"
   ]
  },
  {
   "cell_type": "markdown",
   "metadata": {},
   "source": [
    "## Naming Variables \n",
    "\n",
    "There are a few naming conventions in Python.\\\n",
    "Some of these are rules and others are just stylistic guidelines \n",
    "that prevent your code from looking ridiculous.\n",
    "\n",
    " 1. Variable names should be lower-cased.\n",
    " 1. Each name should start with a letter or sometimes an underscore, but never a number."
   ]
  }
 ],
 "metadata": {
  "kernelspec": {
   "display_name": "Python 3",
   "language": "python",
   "name": "python3"
  },
  "language_info": {
   "codemirror_mode": {
    "name": "ipython",
    "version": 3
   },
   "file_extension": ".py",
   "mimetype": "text/x-python",
   "name": "python",
   "nbconvert_exporter": "python",
   "pygments_lexer": "ipython3",
   "version": "3.7.4"
  }
 },
 "nbformat": 4,
 "nbformat_minor": 2
}
