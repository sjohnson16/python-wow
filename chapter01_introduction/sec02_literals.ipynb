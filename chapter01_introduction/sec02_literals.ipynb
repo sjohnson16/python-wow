{
 "cells": [
  {
   "cell_type": "markdown",
   "metadata": {},
   "source": [
    "# Literals \n",
    "\n",
    "If you've already learned any other program language, \n",
    "then you've probably come across the terms *literal* and *variable*.\n",
    "These concepts are so fundamental that many resources \n",
    "assume that you already  know what they mean.\n",
    "It's not really so much extra effort to unpack these basic ideas, \n",
    "so let's do it right here.\n",
    "As we noted in the previous notebook, some Python concepts, \n",
    "like objects, despite being conceptually more advanced than primitive data types\n",
    "are baked to every fiber of the language, including literals,\n",
    "so it may seem at times that we are being a bit circular---just \n",
    "hang in and we will try not add any more confusion than necessary.\n",
    "\n",
    "## Literals\n",
    "In Python a *literal* is a way of expressing an object \n",
    "directly in the syntax of the programming language.\n",
    "Usually this is some primitive piece of data, \n",
    "like a *number*, *string* (of text), or *Boolean* (True/False) value.\n",
    "It's also possible to express more complex objects, \n",
    "such as collection of values (e.g. lists and dictionaries) as literals. \n",
    "We will get to collections in a subsequent notebook\n",
    "and focus our attention on primitive data types here.\n",
    "Let's go back to our running example, a silly program \n",
    "that just prints text to the screen."
   ]
  },
  {
   "cell_type": "code",
   "execution_count": null,
   "metadata": {},
   "outputs": [],
   "source": [
    "print(\"hello\")"
   ]
  },
  {
   "cell_type": "markdown",
   "metadata": {},
   "source": [
    "Here `\"hello\"` is called a string literal. \n",
    "It's called a \"literal\" because we *literally* \n",
    "just stuck the value right there in the code.\n",
    "The word *literally* means \"actually\", \"exactly\", \n",
    "\"precisely\", \"really\", or \"truly\", and \n",
    "that's why we call this kind sort of expression a literal. \n",
    "Being a literal doesn't depend on the specific value\n",
    "but rather the practice of hard-coding \n",
    "a specific value directly into our program. \n",
    "The Chinese version:"
   ]
  },
  {
   "cell_type": "code",
   "execution_count": null,
   "metadata": {},
   "outputs": [],
   "source": [
    "print(\"你好\")"
   ]
  },
  {
   "cell_type": "markdown",
   "metadata": {},
   "source": [
    "should also be described as using a *literal* in precisely the same way.\n",
    "The values `5`, `5.1`, `7e-10`, `True`, and `False` are also literals."
   ]
  },
  {
   "cell_type": "code",
   "execution_count": null,
   "metadata": {},
   "outputs": [],
   "source": [
    "print(5, type(5))\n",
    "print(5.1, type(5))\n",
    "print(7e-10, type(7e-10))\n",
    "print(True, type(True))\n",
    "print(False, type(False))"
   ]
  },
  {
   "cell_type": "markdown",
   "metadata": {},
   "source": [
    "### String Literals\n",
    "\n",
    "Strings, which we have already encountered are just one data type, \n",
    "specifically the kind that we use to represent text.\n",
    "We create a string literal in Python by enclosing a string of text\n",
    "with quotation marks. The quotation marks indicate to Python\n",
    "that the string is part of a literal \n",
    "and not part of our programs code.\n",
    "\n",
    "We can mark literals in the following ways:\n",
    " 1. by marking them with single quotation marks"
   ]
  },
  {
   "cell_type": "code",
   "execution_count": null,
   "metadata": {},
   "outputs": [],
   "source": [
    "print('Hello')"
   ]
  },
  {
   "cell_type": "markdown",
   "metadata": {},
   "source": [
    " 2. By marking them with double quotation marks"
   ]
  },
  {
   "cell_type": "code",
   "execution_count": null,
   "metadata": {},
   "outputs": [],
   "source": [
    "print(\"Hello\")"
   ]
  },
  {
   "cell_type": "markdown",
   "metadata": {},
   "source": [
    " 3. And finally, by marking them with triple quotation marks. Triple quotation marks are useful for because they allow us to write multi-line strings."
   ]
  },
  {
   "cell_type": "code",
   "execution_count": null,
   "metadata": {},
   "outputs": [],
   "source": [
    "print(\"\"\"\n",
    "Hello, check this out:\n",
    "This is a two-line string\n",
    "\"\"\")"
   ]
  },
  {
   "cell_type": "markdown",
   "metadata": {},
   "source": [
    "## Numeric Literals\n",
    "\n",
    "Literals are not restricted to strings. We can also present numbers as literals:"
   ]
  },
  {
   "cell_type": "code",
   "execution_count": null,
   "metadata": {},
   "outputs": [],
   "source": [
    "print(42)"
   ]
  },
  {
   "cell_type": "code",
   "execution_count": null,
   "metadata": {},
   "outputs": [],
   "source": [
    "print(4.2)"
   ]
  },
  {
   "cell_type": "markdown",
   "metadata": {},
   "source": [
    "There are three main kinds of numbers built in to Python: \n",
    "integers (ints), floating point numbers (floats), and complex numbers. \n",
    "In the next notebook, we'll get more specific about what a *type* means. \n",
    "For now we'll focus on giving some intuition. \n",
    "\n",
    "### Integer Literals\n",
    "\n",
    "Integers are the numbers, e.g. $14$, \n",
    "that can be written without a fractional component.\n",
    "Formally they are the set containing zero ($0$),\n",
    "the positive counting numbers ($1,2, ... $), \n",
    "and their negative counterparts ($-1, -2, ...$).\n",
    "Python will typically assume that any number without a decimal \n",
    "is an integer (so `14.28` is *NOT* an integer)\n",
    "and that any number with a decimal or in scientific notation is a `float`.\n",
    "\n",
    "The Python data type corresponding to the mathematical concept \n",
    "of an integer is denoted by  `int`.\n",
    "We can tell that Python thinks that `7` is an `int` in two ways.\n",
    "First we'll notice that if we call `print` on it, \n",
    "Python prints a number with no fractional component:"
   ]
  },
  {
   "cell_type": "code",
   "execution_count": null,
   "metadata": {},
   "outputs": [],
   "source": [
    "print(7)"
   ]
  },
  {
   "cell_type": "markdown",
   "metadata": {},
   "source": [
    "Second, Python gives us a way to directly \n",
    "inspect the type of any object:\n",
    "by calling the `type` function on it.\n",
    "\n",
    "Again we're calling a function even though we haven't really \n",
    "gotten into the anatomy of what precisely a function is or how to define onw.\n",
    "For now, just hang in and suffice it to say \n",
    "that a function takes some input (or possibly no input at all!),\n",
    "and executes some operations on your computer in the background\n",
    "(say, writing to or reading from a file), \n",
    "and finally returning some value (or possibly none at all!).\n",
    "\n",
    "Recall that we've already been working with one function: `print`. \n",
    "This function takes an input, but returns nothing. \n",
    "The full picture is a bit complex but that shouldn't worry us now. \n",
    "For now, just know that *invoke* a function `func`\n",
    "and want to pass it an input, let's call the input `value`, \n",
    "the appropriate syntax is `func(value)`. \n",
    "Now let's put this lesson to practice by invoking the type function:"
   ]
  },
  {
   "cell_type": "code",
   "execution_count": null,
   "metadata": {},
   "outputs": [],
   "source": [
    "print(type(7))"
   ]
  },
  {
   "cell_type": "markdown",
   "metadata": {},
   "source": [
    "**Side note:** An attentive reader be wondering \n",
    "what sort of object does the `type` function return? \n",
    "We can check this easily by running:"
   ]
  },
  {
   "cell_type": "code",
   "execution_count": null,
   "metadata": {},
   "outputs": [],
   "source": [
    "print(type(type(7)))"
   ]
  },
  {
   "cell_type": "markdown",
   "metadata": {},
   "source": [
    "Sure enough, the type of a *type*, is ... *type*! \n",
    "Let's move on lest things get too meta before you've learned the ABCs.\n",
    "\n",
    "\n",
    "### Float Literals\n",
    "\n",
    "If you're following up until now then floating point numbers will be easy. \n",
    "Similarly, we'll use `float` to differentiate the Python data type \n",
    "from the more general concept of continous numbers. \n",
    "We can make a floating point literal by using a decimal:"
   ]
  },
  {
   "cell_type": "code",
   "execution_count": null,
   "metadata": {},
   "outputs": [],
   "source": [
    "print(14.28)\n",
    "print(type(14.28))"
   ]
  },
  {
   "cell_type": "markdown",
   "metadata": {},
   "source": [
    "Note that Python doesn't care if we add trailing zeros.\n",
    "In other words, `7.1`, `7.10`, and `7.100` are all the same:"
   ]
  },
  {
   "cell_type": "code",
   "execution_count": null,
   "metadata": {},
   "outputs": [],
   "source": [
    "print(7.1)\n",
    "print(7.10)\n",
    "print(7.100)"
   ]
  },
  {
   "cell_type": "markdown",
   "metadata": {},
   "source": [
    "It's important to note that the presence or lack a decimal matters, \n",
    "it makes the difference between Python reading a number literal as an `int` or a `float`:"
   ]
  },
  {
   "cell_type": "code",
   "execution_count": null,
   "metadata": {},
   "outputs": [],
   "source": [
    "print(4, type(4))\n",
    "print(4., type(4.))"
   ]
  },
  {
   "cell_type": "markdown",
   "metadata": {},
   "source": [
    "## Boolean literal\n",
    "\n",
    "Python has a few other kinds of data types. \n",
    "One of the simplest kinds of data types is the Boolean value.\n",
    "These correpsond to two values that can be taken by any logical predicate:\n",
    "`True` and `False`. \n",
    "These will prove especially useful once \n",
    "we start talking working with if-then statements."
   ]
  },
  {
   "cell_type": "code",
   "execution_count": null,
   "metadata": {},
   "outputs": [],
   "source": [
    "print(True, type(True))\n",
    "print(False, type(False))"
   ]
  }
 ],
 "metadata": {
  "kernelspec": {
   "display_name": "Python 3",
   "language": "python",
   "name": "python3"
  },
  "language_info": {
   "codemirror_mode": {
    "name": "ipython",
    "version": 3
   },
   "file_extension": ".py",
   "mimetype": "text/x-python",
   "name": "python",
   "nbconvert_exporter": "python",
   "pygments_lexer": "ipython3",
   "version": "3.7.4"
  }
 },
 "nbformat": 4,
 "nbformat_minor": 2
}
