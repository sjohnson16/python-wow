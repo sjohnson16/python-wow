{
 "cells": [
  {
   "cell_type": "markdown",
   "metadata": {},
   "source": [
    "# Strings\n",
    "\n",
    "We've been playing around with strings in the previous notebooks. \n",
    "We'll briefly go through a grab-bag of things we can do with strings.\n",
    "\n",
    "For these examples we'll work with the following strings:"
   ]
  },
  {
   "cell_type": "code",
   "execution_count": null,
   "metadata": {},
   "outputs": [],
   "source": [
    "string1 = \"This is my string! It belongs to ME!\"\n",
    "string2 = \"And this string belongs to you!\""
   ]
  },
  {
   "cell_type": "markdown",
   "metadata": {},
   "source": [
    "### Calculating length"
   ]
  },
  {
   "cell_type": "code",
   "execution_count": null,
   "metadata": {},
   "outputs": [],
   "source": [
    "print(len(string1))\n",
    "print(len(string2))\n",
    "\n",
    "string3 = \"fdsnjksfdj\""
   ]
  },
  {
   "cell_type": "markdown",
   "metadata": {},
   "source": [
    "## Concatenation \n",
    "\n",
    "Concatenation is a name for the operation \n",
    "where we append one string to the end of another, \n",
    "yielding a new, longer string."
   ]
  },
  {
   "cell_type": "code",
   "execution_count": null,
   "metadata": {},
   "outputs": [],
   "source": [
    "string1 = \"Helm, warp one -- \"\n",
    "string2 = \"Engage!\"\n",
    "string3 = string1 + string2\n",
    "\n",
    "print(\"string1: \", string1)\n",
    "print(\"string2: \", string2)\n",
    "print(\"string3: \", string3)"
   ]
  },
  {
   "cell_type": "markdown",
   "metadata": {},
   "source": [
    "Whenever we concatenate two strings, \n",
    "the resulting string will have a length \n",
    "equal to the sum of the substrings from which it was formed. "
   ]
  },
  {
   "cell_type": "code",
   "execution_count": null,
   "metadata": {},
   "outputs": [],
   "source": [
    "print(len(string1))\n",
    "print(len(string2))\n",
    "print(len(string3))\n",
    "print(len(string1) + len(string2))"
   ]
  },
  {
   "cell_type": "markdown",
   "metadata": {},
   "source": [
    "## String Methods\n",
    "\n",
    "We'll get more into how objects work in subsequent chapters \n",
    "but it's time you learned that objects are associated \n",
    "with some functionality by means of *methods*. \n",
    "Methods are basically functions that act upon a given object.\n",
    "We can invoke an object's methods with syntax \n",
    "that looks like this: `object.method_name()`. \n",
    "Just as we can provide inputs (also called arguments) \n",
    "to an ordinary function, e.g. `print(string1, string2)`,\n",
    "some methods require that we supply arguments. \n",
    "\n",
    "Strings come bundled with a few helpful methods.\n",
    "The following handy methods don't require any arguments:\n",
    "We can flip all alphabetic characters \n",
    "to either *upper* or *lower* or *title* (capitalized initials)\n",
    "by calling the `.upper()`, `.lower()`, or `.title()` methods, \n",
    "respectively (all three leave numeric and special characters unaltered)."
   ]
  },
  {
   "cell_type": "code",
   "execution_count": null,
   "metadata": {},
   "outputs": [],
   "source": [
    "print(\"regular: \\t\", string3)\n",
    "print(\"upper: \\t \\t\", string3.upper())\n",
    "print(\"lower: \\t \\t\", string3.lower())\n",
    "print(\"title: \\t \\t\", string3.title())\n",
    "print(\"original: \\t\", string3)"
   ]
  },
  {
   "cell_type": "markdown",
   "metadata": {},
   "source": [
    "Note that calling the method did not change the original string.\n",
    "In other words, `.upper()` is a function\n",
    "that returns a new string (that is all upper cased),\n",
    "while leaving the underlying object unchanged. \n",
    "We can see this clearly here:"
   ]
  },
  {
   "cell_type": "code",
   "execution_count": null,
   "metadata": {},
   "outputs": [],
   "source": [
    "upper_string = string3.upper()\n",
    "print(string3)\n",
    "print(upper_string)\n",
    "print(type(upper_string))"
   ]
  },
  {
   "cell_type": "markdown",
   "metadata": {},
   "source": [
    "In fact, note that strings are immutable. \n",
    "Thus while we can convert a string into various\n",
    "other related strings, we can never alter the underlying string. \n",
    "We can even reassign a variable that once pointed at a given string\n",
    "to subsequently point at a new string, but this isn't the same thing\n",
    "as mutating a string.\n",
    "\n",
    "Note that `upper_string` has no idea \n",
    "that it was produced by setting `string3` to upper case. \n",
    "All trace of the original capitalziation scheme is lost.\n",
    "As far as it's concerned, `upper_string` is \n",
    "just an ordinary string that happens to contain capital letters."
   ]
  },
  {
   "cell_type": "markdown",
   "metadata": {},
   "source": [
    "## Escape Sequences\n",
    "\n",
    "For certain special characters we can't \n",
    "just express them in a string literal.\n",
    "We need to use an escape sequence. \n",
    "One example is the newline character.\n",
    "To express a newline in a string literal,\n",
    "we can't actually put a newline in the middle of the code.\n",
    "Instead, we use \"\\n\"."
   ]
  },
  {
   "cell_type": "code",
   "execution_count": null,
   "metadata": {},
   "outputs": [],
   "source": [
    "print(\"a\\nb\\nc\")"
   ]
  },
  {
   "cell_type": "markdown",
   "metadata": {},
   "source": [
    "Similarly `\"\\t\"` indicates a horizontal tab,\n",
    "`\"\\\\\"` indicates a backslash, and `\\\"` represents a double quote.\n",
    "Note that we only need to escape double quotes \n",
    "inside a double-quote-enclosed string literal.\n",
    "Likewise, we only need to escape single quotes\n",
    "inside a single-quote-enclosed string literal.\n",
    "However, either kind of quotation mark\n",
    "*can* be indicated via an escape sequence,\n",
    "regardless of whether the string is double- or single-quote-enclosed. "
   ]
  },
  {
   "cell_type": "code",
   "execution_count": null,
   "metadata": {},
   "outputs": [],
   "source": [
    "print('\\\"')\n",
    "print('\"')\n",
    "print(\"\\\"\")"
   ]
  }
 ],
 "metadata": {
  "kernelspec": {
   "display_name": "Python 3",
   "language": "python",
   "name": "python3"
  },
  "language_info": {
   "codemirror_mode": {
    "name": "ipython",
    "version": 3
   },
   "file_extension": ".py",
   "mimetype": "text/x-python",
   "name": "python",
   "nbconvert_exporter": "python",
   "pygments_lexer": "ipython3",
   "version": "3.7.4"
  }
 },
 "nbformat": 4,
 "nbformat_minor": 2
}
