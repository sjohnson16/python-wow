{
 "cells": [
  {
   "cell_type": "markdown",
   "metadata": {},
   "source": [
    "## Basic Jupyter\n",
    "\n",
    "If you've gotten this notebook working in your browser, then you're very close to overcoming the hardest part of all software development: getting the computer turn on, take your code, excecute it, and produce the desired output. [If you're reading this document on GitHub but don't have Jupyter installed, follow these instructions.](http://jupyter.readthedocs.io/en/latest/install.html)\n",
    "\n",
    "\n",
    "To test that you've really gotten this far, click in the code cell below (code cells are indicated with `In [ ]:`). If you click on a cell outside of the textbox, it should turn blue:\n",
    "\n",
    "![](../assets/blue_highlight.png)\n",
    "\n",
    "The **blue** border indicates that you are in `Command mode`. On the other hand, if you click inside the textbox, the border should turn **green**:\n",
    "\n",
    "![](../assets/green_highlight.png)\n",
    "\n",
    "Try it out:"
   ]
  },
  {
   "cell_type": "code",
   "execution_count": null,
   "metadata": {
    "scrolled": true
   },
   "outputs": [],
   "source": [
    "message = \"Nǐ hǎo, shìjiè\"\n",
    "print(message)"
   ]
  },
  {
   "cell_type": "markdown",
   "metadata": {},
   "source": [
    "You should be able to flip the cell back and forth from green to blue. Once you've selected a cell, you can enter edit mode (green) by pressing `Enter` and you can return to command mode by pressing `Esc`."
   ]
  },
  {
   "cell_type": "markdown",
   "metadata": {},
   "source": [
    "### Executing code\n",
    "\n",
    "Now you're ready to execute the program. \n",
    "Unlike C, Python is an *interpreted* language.\n",
    "Recall that for a compiled program,\n",
    "we would convert our program into raw machine instructions \n",
    "that we can feed directly to our computer's processor. \n",
    "With an interpreted language like Python,\n",
    "we do not compile the program in advance.\n",
    "Instead, we rely on another program, called an interpreter\n",
    "which will take our raw code at run time\n",
    "and convert it into machine instructions on the fly.\n",
    "\n",
    "When we launch a Jupyter server,\n",
    "we fire up a Python interpreter in the background.\n",
    "Each time we *run* a cell, it will take that code\n",
    "and feed it to the interpreter. \n",
    "Jupyter notebooks actually support multiple \n",
    "interpreters, depending on which language \n",
    "(or which version of a language) we are running.\n",
    "In Jupyter, the interpreter that both runs and allows us \n",
    "to introspect our program mid-execution is called a *kernel*.\n",
    "For some reason, this definition is often overlooked,\n",
    "when Jupyter is introduced, which is annoying \n",
    "because the term \"kernel\" is badly overloaded. \n",
    "The core part of an operating system which interfaces directly \n",
    "with the memory, CPU and devices, is called a \"kernel\",\n",
    "the Python interpreter is called a \"kernel\" (as you just learned),\n",
    "and once we move on to advanced applications of data science,\n",
    "we'll find that the word \"kernel\" often refers \n",
    "to a function that computes a dot product in some \n",
    "Reproducing Kernel Hilbert Space\n",
    "(we'll revisit these topics when discussing ML).\n",
    "\n",
    "Jupyter supports kernels for many languages, including \n",
    "various versions of Julia, Lua, Matlab, Perl, PhP, Python.\n",
    "Some of these languages are great, while others \n",
    "are horrendous wastes of time that might sap your will to live.\n",
    "We'll save the shallow debates about \n",
    "best/worst programming languages for another time\n",
    "because for the next few weeks I've declared axiomatically\n",
    "that the only language you need to worry about is Python 3.\n",
    "To make sure that Jupyter is using the Python 3 kernel\n",
    "to execute your code, select it from the Kernel dropdown:\n",
    "\n",
    "![](../assets/kernel_dropdown_small.png)\n",
    "\n",
    "Running code is simple. Just select the cell you want to execute.\n",
    "Now you have three main choices. If you prefer the visual interface, \n",
    "hit the \"Run\" button above:\n",
    "\n",
    "![](../assets/run_cell_small.png)\n",
    "\n",
    "Try it out below"
   ]
  },
  {
   "cell_type": "code",
   "execution_count": null,
   "metadata": {},
   "outputs": [],
   "source": [
    "message = \"Nǐ hǎo, shìjiè\"\n",
    "print(message)"
   ]
  },
  {
   "cell_type": "markdown",
   "metadata": {},
   "source": [
    "If everything worked, then you should see `Nǐ hǎo, shìjiè`\n",
    "printed just below your code block. \n",
    "You just ran your first program! \n",
    "Eventually you'll probably get tired \n",
    "of having to move your mouse \n",
    "every time you want to execute a cell. \n",
    "\n",
    "As a result, I recommend memorizing the following two-key sequences:\n",
    " * `CTRL+Enter` will run a cell and keep focus on that same cell.\n",
    " * `Shift+Enter` will run a cell and move focus to the next cell.\n",
    " * `Option+Enter` will run a cell and then move focus to a *new* cell \n",
    "inserted  immediately below the one you just ran."
   ]
  },
  {
   "cell_type": "markdown",
   "metadata": {},
   "source": [
    "### Printing variables\n",
    "\n",
    "One last detail before we move on. \n",
    "You might have noticed that instead of \n",
    "the usual `print(\"Hello, world!\")` program, \n",
    "we did a couple things differently. \n",
    "First, we printed the message in phonetic Chinese \n",
    "to avoid the monotony of writing \"Hello, world\" yet again.\n",
    "But more importantly, we first wrote our message \n",
    "to a variable called `message`. \n",
    "We then printed the message:\n",
    "\n",
    "```\n",
    "message = \"Nǐ hǎo, shìjiè\"\n",
    "print(message)\n",
    "```\n",
    "\n",
    "As you can see, that's not actually necessary.\n",
    "We could have just passed the string literal\n",
    "directly to the print statement."
   ]
  },
  {
   "cell_type": "code",
   "execution_count": null,
   "metadata": {},
   "outputs": [],
   "source": [
    "print(\"Nǐ hǎo, shìjiè\")"
   ]
  },
  {
   "cell_type": "markdown",
   "metadata": {},
   "source": [
    "A variable is just a placeholder where we can store arbitrary data, \n",
    "in this case a text string. \n",
    "We'll get more into precisely what variables \n",
    "and various data types are in the next notebook. \n",
    "But we snuck it in early here show off \n",
    "three more aspects of how Jupyter notebooks work.\n",
    "\n",
    "First, notice that variables, once assigned, \n",
    "persist across notebook cells. \n",
    "So if we take the variable `message` defined above, \n",
    "we can print it again without having to define it again:"
   ]
  },
  {
   "cell_type": "code",
   "execution_count": null,
   "metadata": {},
   "outputs": [],
   "source": [
    "print(message)"
   ]
  },
  {
   "cell_type": "markdown",
   "metadata": {},
   "source": [
    "### Quickly printing objects\n",
    "Note that if we put a variable name as the last line of a codeblock,\n",
    "Jupyter will assume that we want to print it to the screen."
   ]
  },
  {
   "cell_type": "code",
   "execution_count": null,
   "metadata": {},
   "outputs": [],
   "source": [
    "a = 10\n",
    "b = 11\n",
    "c = 12\n",
    "b"
   ]
  },
  {
   "cell_type": "markdown",
   "metadata": {},
   "source": [
    "Third, **Jupyter doesn't care in what order the blocks appear in the notebook**. \n",
    "It only **in what order the cells are run.** \n",
    "We can test this by running the cells below. \n",
    "If you run them in the order that they appear,\n",
    "you should get an error: ``NameError: name 'message_chinese' is not defined``. \n",
    "If you run the second cell first, \n",
    "then everything should go smoothly."
   ]
  },
  {
   "cell_type": "code",
   "execution_count": null,
   "metadata": {},
   "outputs": [],
   "source": [
    "print(message_chinese)"
   ]
  },
  {
   "cell_type": "code",
   "execution_count": null,
   "metadata": {},
   "outputs": [],
   "source": [
    "message_chinese = \"你好，世界\""
   ]
  },
  {
   "cell_type": "markdown",
   "metadata": {},
   "source": [
    "### The `print` function\n",
    "\n",
    "Before moving on we might quickly address \n",
    "what's going on with these `print` instructions. \n",
    "The command `print(\"Hello\")` takes a value (`\"Hello\"`) \n",
    "and prints it to the screen. \n",
    "If you put this print statement in a script \n",
    "and then run it from the terminal, \n",
    "the program will output `\"Hello\"` right on the command line. \n",
    "\n",
    "Here `print` is an example of a function. \n",
    "Functions (often called subroutines, e.g. [in Wikipedia](https://en.wikipedia.org/wiki/Subroutine)),\n",
    "are blocks of instructions that we want to execute many times.\n",
    "Thus we define them one time then reference them later\n",
    "from arbitrary parts of our program whenever we want to *invoke* them. \n",
    "Some functions are so broadly useful that we may want to distribute them \n",
    "in *libraries* so that other programs acan *import* them.\n",
    "And a few functions, including `print` are so useful\n",
    "that they are baked directly into the programming language itself.\n",
    "\n",
    "\n",
    "We'll teach you all the steps to define your own functions \n",
    "when we get to that portion of the tutorial,\n",
    "but basically functions take some input (optionally none),\n",
    "execute a set of instructions (some lines of code),\n",
    "and then produce some output (optionally none).\n",
    "\n",
    "One tricky thing about teaching programming is that\n",
    "it's pedagogically natural to teach basic data types\n",
    "operations and program structures like loops and conditionals\n",
    "before progressing on to teach functions and objects. \n",
    "At the same time, in Python, we can't avoid\n",
    "at least using (if not defining) functions from the outset\n",
    "and we also can't avoid using objects. \n",
    "Indeed everything in Python is an *object*, even functions!\n",
    "We'll elaborate more on that later.\n",
    "\n",
    "Here, we've been passing the `print` function text strings \n",
    "and it has been executing code to print that text to the screen. \n",
    "The `print` function **does not return any values**, \n",
    "but it's very flexible in what kinds of values it takes as input:\n",
    "numbers, variables, lists, and more complex objects.\n",
    "We've only been using `print` so far to print *string literals*.\n",
    "In the coming sections, we'll go deeper into what a literal means,\n",
    "how functions work, and how to define our own functions. \n",
    "\n",
    "## Comments\n",
    "\n",
    "When we write code, we sometimes need to explain what we're doing. \n",
    "The process or clearly explaining the purpose of each component \n",
    "of the code is generally called documentation.\n",
    "\n",
    "We can add documentation to code by using *comments*, \n",
    "lines of text that will be visible to other programmers\n",
    "but which the Python interpreter will ignore.\n",
    "In Python, we mark comments with the pound symbol `#`"
   ]
  },
  {
   "cell_type": "code",
   "execution_count": null,
   "metadata": {},
   "outputs": [],
   "source": [
    "# This is a commennt\n",
    "# Every line preceded by a \"#\" \n",
    "#   ... will not execute"
   ]
  },
  {
   "cell_type": "markdown",
   "metadata": {},
   "source": [
    "The previous block of code will not produce any output. \n",
    "Moreover, Python won't do any processing,\n",
    "besides whatever small amount of parsing is required \n",
    "to ingest the comment and ignore it.\n",
    "\n",
    "## Markdown\n",
    "Jupyter notebooks are not just code editors in the web browser.\n",
    "They give us an interactive environment for running and writing code,\n",
    "for visualizing data, and for explaining ideas in a pedagogical context.\n",
    "Accordingly, they let us write formatted text\n",
    "using a stripped-down markup language called Markdown. \n",
    "This cell is written in Markdown.\n",
    "It's not difficult to find Markdown cheatsheets on the Internet. \n",
    "[Here's one that I sometimes refer to](https://github.com/adam-p/markdown-here/wiki/Markdown-Cheatsheet).\n",
    "To flip your cell between markdown and code, \n",
    "either select the `Cell>Cell Type>Markdown` \n",
    "or `Cell>Cell Type>Code` from the dropdowns, respectively, \n",
    "or hit `ESC + M` or `ESC + Y` while in command mode, respectively,\n",
    "(not capitalized, just the key).\n",
    "\n"
   ]
  }
 ],
 "metadata": {
  "kernelspec": {
   "display_name": "Python 3",
   "language": "python",
   "name": "python3"
  },
  "language_info": {
   "codemirror_mode": {
    "name": "ipython",
    "version": 3
   },
   "file_extension": ".py",
   "mimetype": "text/x-python",
   "name": "python",
   "nbconvert_exporter": "python",
   "pygments_lexer": "ipython3",
   "version": "3.7.4"
  }
 },
 "nbformat": 4,
 "nbformat_minor": 2
}
