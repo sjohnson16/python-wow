{
 "cells": [
  {
   "cell_type": "markdown",
   "metadata": {},
   "source": [
    "# Numbers\n",
    "\n",
    "Now let's take a deeper look at how to work with numbers. \n",
    "Recall that Python supports `int`, `float` and `complex` number types.\n",
    "\n",
    "\n",
    "## Arithmetic\n",
    "To begin let's briefly introduce the basic arithmetic operators:"
   ]
  },
  {
   "cell_type": "code",
   "execution_count": null,
   "metadata": {},
   "outputs": [],
   "source": [
    "x = 5\n",
    "y = 8\n",
    "\n",
    "# Basic Debugging\n",
    "print(\"x \\t\\t\\t\", type(x), x)\n",
    "print(\"y \\t\\t\\t\", type(y), y)\n",
    "\n",
    "# Addition\n",
    "result = x + y\n",
    "print('Addition:', 'x + y \\t', type(result), result)\n",
    "\n",
    "# Subtraction\n",
    "result = x - y\n",
    "print('Subtraction:', 'x - y \\t', type(result), result)\n",
    "\n",
    "# Multiplication\n",
    "result = x * y\n",
    "print('Multiplication:', 'x * y \\t', type(result), result)\n",
    "\n",
    "# Division\n",
    "result = x / y\n",
    "print('Division:', 'x / y \\t', type(result), result)\n",
    "\n",
    "# Exponentiation\n",
    "result = x ** y\n",
    "print('Exponentiation:', 'x ** y \\t', type(result), result)"
   ]
  },
  {
   "cell_type": "markdown",
   "metadata": {},
   "source": [
    "Note that when we compose together two `int`s \n",
    "with most basic arithemtic operators, the results are integers. \n",
    "However, if we divide two `int`s, the result is a `float`.\n",
    "In older versions of Python (and in many older languages, like C),\n",
    "the built-in division operation is integer division.\n",
    "Note that in general to return an integer upon dividing two integers,\n",
    "we would have to either round the result, or discard the fractional part. \n",
    "Classically, the convention is to discard the fractional component.\n",
    "\n",
    "We can invoke the classic integer division by using the `//` operator."
   ]
  },
  {
   "cell_type": "code",
   "execution_count": null,
   "metadata": {},
   "outputs": [],
   "source": [
    "# Division\n",
    "result = x // y\n",
    "print('Division:', 'x // y \\t', type(result), result)"
   ]
  },
  {
   "cell_type": "markdown",
   "metadata": {},
   "source": [
    "The modulo operator:\n",
    "Another convenient operator is the modulo operator: `%`. This does the opposite of integer division. Instead of discarding the remainder, it *only* returns the remainder:"
   ]
  },
  {
   "cell_type": "code",
   "execution_count": null,
   "metadata": {},
   "outputs": [],
   "source": [
    "print(8 % 5)\n",
    "print(9 % 3)\n",
    "print(13 % 4)"
   ]
  },
  {
   "cell_type": "markdown",
   "metadata": {},
   "source": [
    "## Floating point arithmetic\n",
    "\n",
    "Python also supports the standard continuous math functions on floating point numbers. There are no big surprises here. "
   ]
  },
  {
   "cell_type": "code",
   "execution_count": null,
   "metadata": {},
   "outputs": [],
   "source": [
    "x = 5.0\n",
    "y = 8.0\n",
    "\n",
    "# Basic Debugging\n",
    "print(\"x \\t\\t\\t\", type(x), x)\n",
    "print(\"y \\t\\t\\t\", type(y), y)\n",
    "\n",
    "# Addition\n",
    "result = x + y\n",
    "print('Addition:', 'x + y \\t', type(result), result)\n",
    "\n",
    "# Subtraction\n",
    "result = x - y\n",
    "print('Subtraction:', 'x - y \\t', type(result), result)\n",
    "\n",
    "# Multiplication\n",
    "result = x * y\n",
    "print('Multiplication:', 'x * y \\t', type(result), result)\n",
    "\n",
    "# Division\n",
    "result = x / y\n",
    "print('Division:', 'x / y \\t', type(result), result)\n",
    "\n",
    "# Exponentiation\n",
    "result = x ** y\n",
    "print('Exponentiation:', 'x ** y \\t', type(result), result)"
   ]
  },
  {
   "cell_type": "markdown",
   "metadata": {},
   "source": [
    "## Plus-equals and friends\n",
    "\n",
    "A very common workflow is that we want \n",
    "to update the value of a variable\n",
    "by adding, subtracting, multiplying or dividing\n",
    "some other value **from its current value**. \n",
    "Like many languages, Python supports these operations \n",
    "via the `+=`, `-=`, `*=`, and `/=` operators."
   ]
  },
  {
   "cell_type": "code",
   "execution_count": null,
   "metadata": {},
   "outputs": [],
   "source": [
    "x = 10\n",
    "print(x)\n",
    "x += 1\n",
    "print(x)\n",
    "x -=  1\n",
    "print(x)\n",
    "x *= 2 \n",
    "print(x)\n",
    "x /= 2 \n",
    "print(x)"
   ]
  },
  {
   "cell_type": "markdown",
   "metadata": {},
   "source": [
    "## The standard  `math` library\n",
    "\n",
    "For more advanced operations than those \n",
    "built in to the Python programming language,\n",
    "you can import the math library. \n",
    "Importing a library is easy. \n",
    "Just run `import math`\n",
    "This gives us access to all the functions \n",
    "contained in the `math` package by calling `math.<function_name>`."
   ]
  },
  {
   "cell_type": "code",
   "execution_count": null,
   "metadata": {},
   "outputs": [],
   "source": [
    "import math\n",
    "\n",
    "# round up a number \n",
    "print(\"math.ceil(5.3):\\t\\t\", math.ceil(5.3))\n",
    "\n",
    "# round a number down \n",
    "print(\"math.floor(5.3):\\t\", math.floor(5.3))\n",
    "\n",
    "# access trigonometric functions and common constants\n",
    "print(\"math.sin(math.pi)\\t\", math.sin(math.pi))"
   ]
  },
  {
   "cell_type": "markdown",
   "metadata": {},
   "source": [
    "You might notice have expected that $\\text{sin}(\\pi)$\n",
    "executed in code as `math.sin(math.pi)` should return the value 0.\n",
    "If you look closely, you'll notice that the value returned\n",
    "(on my computer `1.2246467991473532e-16`),\n",
    "while not *exactly* `0`, is very very close.\n",
    "That's because although the computer can simulate continuous mathematics,\n",
    "all the memory on the entire machine (or any machine)\n",
    "could never store all the digits of $\\pi$.\n",
    "So the computer doesn't really store continuous numbers,\n",
    "instead it approximates continuous math with floats\n",
    "by sotring some significant digits and also\n",
    "an exponent to capture the order of magnitude.\n",
    "The result is that sometimes we'll be off just a tiny bit,\n",
    "if only at extreme precision and orders of magnitude.\n",
    "If you're really fascinated about floating point arithmetic, \n",
    "perhaps start by checking out [the Wikipedia page](https://en.wikipedia.org/wiki/Floating-point_arithmetic) or the official Python documentation \n",
    "on how [the issues and limitations of floating point arithmetic](https://docs.python.org/3/tutorial/floatingpoint.html).\n",
    "\n",
    "In most commercial programs, such as web apps that you might build at a startup, \n",
    "the subtle details of floating point arithmetic won't matter much.\n",
    "However, as you get further along your journey into machine learning,\n",
    "you will find that the fine details of numerical computing often do matter\n",
    "and we will often need to be careful how we implement machine learning models\n",
    "to avoid common errors such as overflow and underflow \n",
    "that that can plague careless implementations."
   ]
  },
  {
   "cell_type": "markdown",
   "metadata": {},
   "source": [
    "## Casting between number types\n",
    "\n",
    "Sometimes you might want to explicitly treat an integer as a float or vice versa. \n",
    "One simple way to do this is by *casting* between these types, \n",
    "using the `int()` and `float()` functions:"
   ]
  },
  {
   "cell_type": "code",
   "execution_count": null,
   "metadata": {},
   "outputs": [],
   "source": [
    "print(int(3.4))\n",
    "print(float(3))"
   ]
  },
  {
   "cell_type": "markdown",
   "metadata": {},
   "source": [
    "You can even convert between numbers and Booleans using the `bool()` function"
   ]
  },
  {
   "cell_type": "code",
   "execution_count": null,
   "metadata": {},
   "outputs": [],
   "source": [
    "print(bool(4))\n",
    "print(bool(4.4))\n",
    "print(bool(0))\n",
    "print(bool(0.0))\n",
    "print(int(True))\n",
    "print(int(False))\n",
    "print(float(True))\n",
    "print(float(False))"
   ]
  },
  {
   "cell_type": "markdown",
   "metadata": {},
   "source": [
    "Be careful! If you convert directly from a `float` to a `bool`, \n",
    "you might think you're evaluating the number 0, \n",
    "(and thus should get `False`) but actually you'll get `True` due to the loss of precision."
   ]
  },
  {
   "cell_type": "code",
   "execution_count": null,
   "metadata": {},
   "outputs": [],
   "source": [
    "print(bool(math.sin(math.pi)))"
   ]
  }
 ],
 "metadata": {
  "kernelspec": {
   "display_name": "Python 3",
   "language": "python",
   "name": "python3"
  },
  "language_info": {
   "codemirror_mode": {
    "name": "ipython",
    "version": 3
   },
   "file_extension": ".py",
   "mimetype": "text/x-python",
   "name": "python",
   "nbconvert_exporter": "python",
   "pygments_lexer": "ipython3",
   "version": "3.7.4"
  }
 },
 "nbformat": 4,
 "nbformat_minor": 2
}
