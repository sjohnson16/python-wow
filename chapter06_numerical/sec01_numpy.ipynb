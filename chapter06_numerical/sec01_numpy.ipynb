{
 "cells": [
  {
   "cell_type": "markdown",
   "metadata": {},
   "source": [
    "# Numpy\n",
    "\n",
    "In this section we'll briefly introduce `numpy`,\n",
    "arguably the most popular and widely-used library \n",
    "for numerical computing in Python.\n",
    "We will start off by examining `numpy` ndarrays,\n",
    "the core data structure that it offers, \n",
    "and give a hint of the vast capabilities it provides\n",
    "including the efficient implementations of many\n",
    "mathematical operators that can be performed on it.\n",
    "\n",
    "The very first thing we need to do is import the package.\n",
    "Most professionals will do this as follows: `import numpy as np`. \n",
    "The `import package_name as short_name` syntax \n",
    "just allows us to rename a library so for convenience.\n",
    "Since we'll use numpy so often, we prefer to only type `np` each time."
   ]
  },
  {
   "cell_type": "code",
   "execution_count": 1,
   "metadata": {},
   "outputs": [],
   "source": [
    "import numpy as np"
   ]
  },
  {
   "cell_type": "markdown",
   "metadata": {},
   "source": [
    "Now we can access all kinds of functions, objects, and special numbers from the numpy library. \n",
    "To begin with, we note that numpy provides a lot of the basic maths\n",
    "that you are used to accessing via the `math` package. \n",
    "For example, `numpy` implements many useful constances, including $e$ and $\\pi$."
   ]
  },
  {
   "cell_type": "code",
   "execution_count": 2,
   "metadata": {},
   "outputs": [
    {
     "name": "stdout",
     "output_type": "stream",
     "text": [
      "2.718281828459045\n",
      "3.141592653589793\n"
     ]
    }
   ],
   "source": [
    "print(np.e)\n",
    "print(np.pi)"
   ]
  },
  {
   "cell_type": "markdown",
   "metadata": {},
   "source": [
    "We can also access many familiar scalar functions through `numpy`, including (but not limited) to those we already encountered in `math`, e.g., `ceil()` and `sin()`."
   ]
  },
  {
   "cell_type": "code",
   "execution_count": 5,
   "metadata": {},
   "outputs": [
    {
     "data": {
      "text/plain": [
       "1.0"
      ]
     },
     "execution_count": 5,
     "metadata": {},
     "output_type": "execute_result"
    }
   ],
   "source": [
    "np.ceil(np.e)\n",
    "np.sin(np.pi/2)"
   ]
  },
  {
   "cell_type": "markdown",
   "metadata": {},
   "source": [
    "We could not possibly cover every single function and still promise to offer a concise tutorial. However, to get a sense for the offering, you can introspect the package via `dir(np)` or take a look at the [official documentation](https://docs.scipy.org/doc/numpy-1.17.0/reference/)."
   ]
  },
  {
   "cell_type": "markdown",
   "metadata": {},
   "source": [
    "## Numpy's ndarray\n",
    "\n",
    "While `numpy` does provide an ample amount of functionality for manipulating scalars,\n",
    "the key offering of the numpy library is the ndarray,\n",
    "a powerful object for representing and manipulating n-dimensional arrays.\n",
    "In short, Python's lists aim extreme flexibility---but \n",
    "come at the expense of extreme slowness.\n",
    "Imagine, for example we wanted to work with a 2D array of floats:"
   ]
  },
  {
   "cell_type": "code",
   "execution_count": 7,
   "metadata": {},
   "outputs": [
    {
     "name": "stdout",
     "output_type": "stream",
     "text": [
      "[[0, 1, 2, 3, 4, 5, 6, 7, 8, 9], [10, 11, 12, 13, 14, 15, 16, 17, 18, 19], [20, 21, 22, 23, 24, 25, 26, 27, 28, 29]]\n"
     ]
    }
   ],
   "source": [
    "matrix1 = [[0,1,2,3,4,5,6,7,8,9],[10,11,12,13,14,15,16,17,18,19],[20,21,22,23,24,25,26,27,28,29]]\n",
    "print(matrix1)"
   ]
  },
  {
   "cell_type": "markdown",
   "metadata": {},
   "source": [
    "Now at this size, for most purposes, this list is fine. But say for example that we wanted to calculate the average value in the list. How might we do it? We'd likely have to iterate over all rows and all columns of the list."
   ]
  },
  {
   "cell_type": "code",
   "execution_count": 8,
   "metadata": {},
   "outputs": [
    {
     "name": "stdout",
     "output_type": "stream",
     "text": [
      "14.5\n"
     ]
    }
   ],
   "source": [
    "total = 0\n",
    "denominator = len(matrix1) * len(matrix1[0])\n",
    "for row in range(len(matrix1)):\n",
    "    for col in range(len(matrix1[0])):\n",
    "        total += matrix1[row][col]\n",
    "print(total/denominator)"
   ]
  },
  {
   "cell_type": "markdown",
   "metadata": {},
   "source": [
    "This is problematic for a couple reasons. \n",
    "First, it's a lot of code to do a very standard numerical calculation. \n",
    "Second, in order facilitate the flexibility of Python's lists \n",
    "to store aribitrary objects, the numbers are very slow to access. \n",
    "It might seem fast to us (many thousands of accesses per second!) \n",
    "but compared to the same operation using arrays implemented efficiently in C, \n",
    "the performance of this code is just glacial. \n",
    "\n",
    "Numpy gives us an extremely optimized tools for storing \n",
    "and manipulating arrays comprised of elments\n",
    "all of which are contstrained to assume the same type \n",
    "(selected among a restricted list of allowed types).\n",
    "Later in this tutorial we will compare the compute time \n",
    "required by naive Python implementations vs highly-optimized numpy."
   ]
  },
  {
   "cell_type": "markdown",
   "metadata": {},
   "source": [
    "## Creating an NDArray \n",
    "The most intuitive way to instantiate a numpy ndarray\n",
    "is by calling `numpy.array(...)` and passing \n",
    "a Python list literal (or list of lists) as an input.\n",
    "Importantly, each element must be a float and the lengths\n",
    "of the lists must line up to make this is a rectangular object."
   ]
  },
  {
   "cell_type": "code",
   "execution_count": 12,
   "metadata": {},
   "outputs": [
    {
     "data": {
      "text/plain": [
       "array([ 5,  1,  7,  4, 12,  2])"
      ]
     },
     "execution_count": 12,
     "metadata": {},
     "output_type": "execute_result"
    }
   ],
   "source": [
    "vec1 = np.array([5,1,7,4,12,2])\n",
    "vec1"
   ]
  },
  {
   "cell_type": "markdown",
   "metadata": {},
   "source": [
    "Note that for a numpy list every element must be a numerical values\n",
    "and they must all share the same type. \n",
    "Python will let us get away with composing mixed lists of \n",
    "functions, objects, classes, packages, floats, ints, and Booleans.\n",
    "But numpy types are strictly enforced. \n",
    "This strictness in both the size and type of the array\n",
    "allows for efficient implementations where each item\n",
    "is stored in consecutive, fixed-size blocks of memory. \n",
    "We can  access the `type` of an ndarray via its `.dtype` attribute."
   ]
  },
  {
   "cell_type": "code",
   "execution_count": 14,
   "metadata": {},
   "outputs": [
    {
     "data": {
      "text/plain": [
       "dtype('int64')"
      ]
     },
     "execution_count": 14,
     "metadata": {},
     "output_type": "execute_result"
    }
   ],
   "source": [
    "vec1.dtype"
   ]
  },
  {
   "cell_type": "markdown",
   "metadata": {},
   "source": [
    "Note that numpy inferred that because we instantiated it with list of ints,\n",
    "we must want the lements to be stored as ints. \n",
    "What happens now if we try to assign a float to the first index?"
   ]
  },
  {
   "cell_type": "code",
   "execution_count": 18,
   "metadata": {},
   "outputs": [
    {
     "data": {
      "text/plain": [
       "array([ 4,  1,  7,  4, 12,  2])"
      ]
     },
     "execution_count": 18,
     "metadata": {},
     "output_type": "execute_result"
    }
   ],
   "source": [
    "vec1[0] = 4.5\n",
    "vec1"
   ]
  },
  {
   "cell_type": "markdown",
   "metadata": {},
   "source": [
    "We can't do it! Numpy won't throw an error, but it will do a type conversion. \n",
    "Similar things happen if we try to assign a Boolean value."
   ]
  },
  {
   "cell_type": "code",
   "execution_count": 21,
   "metadata": {},
   "outputs": [
    {
     "data": {
      "text/plain": [
       "array([ 1,  0,  7,  4, 12,  2])"
      ]
     },
     "execution_count": 21,
     "metadata": {},
     "output_type": "execute_result"
    }
   ],
   "source": [
    "vec1[0] = True\n",
    "vec1[1] = False\n",
    "vec1"
   ]
  },
  {
   "cell_type": "markdown",
   "metadata": {},
   "source": [
    "The value `True` gets cast to the int `1` and the value `False` gets cast to `0`. \n",
    "If we try to assign a string, however, we'll get an error."
   ]
  },
  {
   "cell_type": "code",
   "execution_count": 23,
   "metadata": {},
   "outputs": [
    {
     "ename": "ValueError",
     "evalue": "invalid literal for int() with base 10: 'Banana'",
     "output_type": "error",
     "traceback": [
      "\u001b[0;31m---------------------------------------------------------------------------\u001b[0m",
      "\u001b[0;31mValueError\u001b[0m                                Traceback (most recent call last)",
      "\u001b[0;32m<ipython-input-23-f8f4f952b033>\u001b[0m in \u001b[0;36m<module>\u001b[0;34m\u001b[0m\n\u001b[0;32m----> 1\u001b[0;31m \u001b[0mvec1\u001b[0m\u001b[0;34m[\u001b[0m\u001b[0;36m0\u001b[0m\u001b[0;34m]\u001b[0m \u001b[0;34m=\u001b[0m \u001b[0;34m\"Banana\"\u001b[0m\u001b[0;34m\u001b[0m\u001b[0;34m\u001b[0m\u001b[0m\n\u001b[0m",
      "\u001b[0;31mValueError\u001b[0m: invalid literal for int() with base 10: 'Banana'"
     ]
    }
   ],
   "source": [
    "vec1[0] = \"Banana\""
   ]
  },
  {
   "cell_type": "markdown",
   "metadata": {},
   "source": [
    "That's because the type conversion `int(\"Banana\")` fails. Notice below that you get th same exact error message."
   ]
  },
  {
   "cell_type": "code",
   "execution_count": 27,
   "metadata": {
    "scrolled": true
   },
   "outputs": [
    {
     "ename": "ValueError",
     "evalue": "invalid literal for int() with base 10: 'Banana'",
     "output_type": "error",
     "traceback": [
      "\u001b[0;31m---------------------------------------------------------------------------\u001b[0m",
      "\u001b[0;31mValueError\u001b[0m                                Traceback (most recent call last)",
      "\u001b[0;32m<ipython-input-27-781883dc9c5c>\u001b[0m in \u001b[0;36m<module>\u001b[0;34m\u001b[0m\n\u001b[0;32m----> 1\u001b[0;31m \u001b[0mint\u001b[0m\u001b[0;34m(\u001b[0m\u001b[0;34m\"Banana\"\u001b[0m\u001b[0;34m)\u001b[0m\u001b[0;34m\u001b[0m\u001b[0;34m\u001b[0m\u001b[0m\n\u001b[0m",
      "\u001b[0;31mValueError\u001b[0m: invalid literal for int() with base 10: 'Banana'"
     ]
    }
   ],
   "source": [
    "int(\"Banana\")"
   ]
  },
  {
   "cell_type": "markdown",
   "metadata": {},
   "source": [
    "## Declaring the type\n",
    "To explicitly set the type of an `ndarray` (e.g., as an `np.float64`), \n",
    "we can declare the type by using the named argument `dtype`\n",
    "in the constructor e.g.: "
   ]
  },
  {
   "cell_type": "code",
   "execution_count": 30,
   "metadata": {},
   "outputs": [
    {
     "data": {
      "text/plain": [
       "array([ 5.,  1.,  7.,  4., 12.,  2.])"
      ]
     },
     "execution_count": 30,
     "metadata": {},
     "output_type": "execute_result"
    }
   ],
   "source": [
    "vec1 = np.array([5,1,7,4,12,2], dtype=np.float64)\n",
    "vec1"
   ]
  },
  {
   "cell_type": "markdown",
   "metadata": {},
   "source": []
  },
  {
   "cell_type": "markdown",
   "metadata": {},
   "source": [
    "## Matrices\n",
    "To create a two dimensional array from a literal,\n",
    "we just pass in a list of lists, as follows:"
   ]
  },
  {
   "cell_type": "code",
   "execution_count": 33,
   "metadata": {},
   "outputs": [
    {
     "name": "stdout",
     "output_type": "stream",
     "text": [
      "[[ 0.  1.  2.  3.  4.  5.  6.  7.  8.  9.]\n",
      " [10. 11. 12. 13. 14. 15. 16. 17. 18. 19.]\n",
      " [20. 21. 22. 23. 24. 25. 26. 27. 28. 29.]]\n"
     ]
    }
   ],
   "source": [
    "matrix2 = np.array([[0.0,1,2,3,4,5,6,7,8,9],[10,11,12,13,14,15,16,17,18,19],[20,21,22,23,24,25,26,27,28,29]])\n",
    "print(matrix2)"
   ]
  },
  {
   "cell_type": "markdown",
   "metadata": {},
   "source": [
    "Notice that even though all the valeus besides the very first element of the first list are integers, the type of the list is float. Intuitively that's because floats are more general than ints (and ints are more general than Boolean values). There's a natural way to represent an int as a float without loss of information (up to numerical precision issues) but not vice-versa."
   ]
  },
  {
   "cell_type": "code",
   "execution_count": 35,
   "metadata": {},
   "outputs": [
    {
     "data": {
      "text/plain": [
       "dtype('float64')"
      ]
     },
     "execution_count": 35,
     "metadata": {},
     "output_type": "execute_result"
    }
   ],
   "source": [
    "matrix2.dtype"
   ]
  },
  {
   "cell_type": "code",
   "execution_count": 37,
   "metadata": {},
   "outputs": [
    {
     "data": {
      "text/plain": [
       "dtype('float64')"
      ]
     },
     "execution_count": 37,
     "metadata": {},
     "output_type": "execute_result"
    }
   ],
   "source": [
    "np.array([True, 4, 5.5]).dtype"
   ]
  },
  {
   "cell_type": "markdown",
   "metadata": {},
   "source": [
    "## Standard summary functions\n",
    "\n",
    "It's now easy to access standard numperical functions \n",
    "either via the numpy library functinos or via \n",
    "the corresponding methods of the `ndarray` object.\n",
    "This is very un-Pythonic---somehow there \n",
    "are multiple ways to do the same thing.\n",
    "However, at this point so many trillions of lines \n",
    "depend on numpy that it might be too late \n",
    "to fix this so we are stuck with the inelegance. \n",
    "Below we calcualte the mean of the `ndarray`\n",
    "both as a function in the `np` namespace and as  \n",
    "a method of the `ndarray` object."
   ]
  },
  {
   "cell_type": "code",
   "execution_count": 38,
   "metadata": {},
   "outputs": [
    {
     "name": "stdout",
     "output_type": "stream",
     "text": [
      "14.5\n",
      "14.5\n"
     ]
    }
   ],
   "source": [
    "print(np.mean(matrix2))\n",
    "print(matrix2.mean())"
   ]
  },
  {
   "cell_type": "markdown",
   "metadata": {},
   "source": [
    "## Shape and Axes\n",
    "\n",
    "An `ndarray` has (possibly) multiple axes. \n",
    "For a 2nd-order array (i.e. matrix),\n",
    "we have two axes to work with. \n",
    "We can learn about the dimensions of an ndarray \n",
    "along each of its axes via the shape attribute:"
   ]
  },
  {
   "cell_type": "code",
   "execution_count": 39,
   "metadata": {},
   "outputs": [
    {
     "data": {
      "text/plain": [
       "(3, 10)"
      ]
     },
     "execution_count": 39,
     "metadata": {},
     "output_type": "execute_result"
    }
   ],
   "source": [
    "matrix2.shape"
   ]
  },
  {
   "cell_type": "markdown",
   "metadata": {},
   "source": [
    "## Creating ndarrays programmatically \n",
    "\n",
    "There are many ways to create ndarrays. \n",
    "We already saw one: by using the `np.array(...)` function\n",
    "on a Python list consisting of only numerical values.\n",
    "We can also just call up lists of ones or zeros,\n",
    "by passing the appropriate shape to the \n",
    "`np.ones()` and `np.zeros()` functions respectively."
   ]
  },
  {
   "cell_type": "code",
   "execution_count": 42,
   "metadata": {},
   "outputs": [
    {
     "name": "stdout",
     "output_type": "stream",
     "text": [
      "Using ones: \n",
      " [[1. 1. 1. 1. 1. 1. 1. 1. 1. 1.]\n",
      " [1. 1. 1. 1. 1. 1. 1. 1. 1. 1.]\n",
      " [1. 1. 1. 1. 1. 1. 1. 1. 1. 1.]\n",
      " [1. 1. 1. 1. 1. 1. 1. 1. 1. 1.]]\n",
      "\n",
      "Using zeros: \n",
      " [[0. 0. 0. 0. 0. 0.]\n",
      " [0. 0. 0. 0. 0. 0.]\n",
      " [0. 0. 0. 0. 0. 0.]]\n"
     ]
    }
   ],
   "source": [
    "ones_mat = np.ones((4,10))\n",
    "zeros_mat = np.zeros((3,6))\n",
    "print(\"Using ones: \\n\", ones_mat)\n",
    "print(\"\\nUsing zeros: \\n\", zeros_mat)"
   ]
  },
  {
   "cell_type": "markdown",
   "metadata": {},
   "source": [
    "## `ones_like` and `zeros_like`\n",
    "Given an `ndarray` of some shape, we often\n",
    "want to create an ndarray of the exact same shape\n",
    "but initialized to be all ones or all zeros. \n",
    "We could do this with `np.ones(matrix2.shape)`.\n",
    "Numpy also gives us a more elegant shorthand:"
   ]
  },
  {
   "cell_type": "code",
   "execution_count": 49,
   "metadata": {},
   "outputs": [
    {
     "name": "stdout",
     "output_type": "stream",
     "text": [
      "With np.ones [[1. 1. 1. 1. 1. 1. 1. 1. 1. 1.]\n",
      " [1. 1. 1. 1. 1. 1. 1. 1. 1. 1.]\n",
      " [1. 1. 1. 1. 1. 1. 1. 1. 1. 1.]]\n",
      "\n",
      "With np.ones_like [[1. 1. 1. 1. 1. 1. 1. 1. 1. 1.]\n",
      " [1. 1. 1. 1. 1. 1. 1. 1. 1. 1.]\n",
      " [1. 1. 1. 1. 1. 1. 1. 1. 1. 1.]]\n",
      "\n",
      "With np.zeros_like [[0. 0. 0. 0. 0. 0. 0. 0. 0. 0.]\n",
      " [0. 0. 0. 0. 0. 0. 0. 0. 0. 0.]\n",
      " [0. 0. 0. 0. 0. 0. 0. 0. 0. 0.]]\n"
     ]
    }
   ],
   "source": [
    "print(\"With np.ones\", np.ones(matrix2.shape))\n",
    "print(\"\\nWith np.ones_like\", np.ones_like(matrix2))\n",
    "print(\"\\nWith np.zeros_like\", np.zeros_like(matrix2))"
   ]
  },
  {
   "cell_type": "markdown",
   "metadata": {},
   "source": [
    "## Accessing values\n",
    "\n",
    "We can access elements by punching in the indices along each axis separated by commas. \n",
    "Note that `my_array[i,j]` is equivalent to `my_array[i][j]`. Note that this indexing by tuple is supported in `numpy` but not with Python lists of lists (*hint: try it with matrix1*). "
   ]
  },
  {
   "cell_type": "code",
   "execution_count": 51,
   "metadata": {},
   "outputs": [
    {
     "name": "stdout",
     "output_type": "stream",
     "text": [
      "16.0\n",
      "16.0\n"
     ]
    }
   ],
   "source": [
    "print(matrix2[1,6])\n",
    "print(matrix2[1][6])"
   ]
  },
  {
   "cell_type": "markdown",
   "metadata": {},
   "source": [
    "## Updating values\n",
    "Just as with any Python list, we can "
   ]
  },
  {
   "cell_type": "code",
   "execution_count": 52,
   "metadata": {},
   "outputs": [
    {
     "name": "stdout",
     "output_type": "stream",
     "text": [
      "[[  0.   1.   2.   3.   4.   5.   6.   7.   8.   9.]\n",
      " [ 10.  11.  12.  13.  14.  15. 314.  17.  18.  19.]\n",
      " [ 20.  21.  22.  23.  24.  25.  26.  27.  28.  29.]]\n"
     ]
    }
   ],
   "source": [
    "matrix2[1,6] = 314\n",
    "print(matrix2)"
   ]
  },
  {
   "cell_type": "markdown",
   "metadata": {},
   "source": [
    "## Aggregating over a specific axis\n",
    "\n",
    "For many operations to selectively apply the operation along a specific axis, we can specify the desired axis with a named argument. For example say that we want to compute the sum of our matrix, but only over each column:"
   ]
  },
  {
   "cell_type": "code",
   "execution_count": 53,
   "metadata": {},
   "outputs": [
    {
     "data": {
      "text/plain": [
       "array([ 30.,  33.,  36.,  39.,  42.,  45., 346.,  51.,  54.,  57.])"
      ]
     },
     "execution_count": 53,
     "metadata": {},
     "output_type": "execute_result"
    }
   ],
   "source": [
    "np.sum(matrix2, axis=0)"
   ]
  },
  {
   "cell_type": "markdown",
   "metadata": {},
   "source": [
    "Note that the original array had shape (3, 10). The resulting array has shape (10). That's because we eliminated the first axis (`axis=0`) by summing over it. \n",
    "If instead, we sum over `axis 1`, we'll expect a result of dimension 3."
   ]
  },
  {
   "cell_type": "code",
   "execution_count": 54,
   "metadata": {},
   "outputs": [
    {
     "data": {
      "text/plain": [
       "array([ 45., 443., 245.])"
      ]
     },
     "execution_count": 54,
     "metadata": {},
     "output_type": "execute_result"
    }
   ],
   "source": [
    "np.sum(matrix2, axis=1)"
   ]
  },
  {
   "cell_type": "markdown",
   "metadata": {},
   "source": [
    "Similarly we can take the `max`, `min`, `argmax`, `argmin` and many other functions in a similar element-wise fashion."
   ]
  },
  {
   "cell_type": "markdown",
   "metadata": {},
   "source": [
    "## Ranges\n",
    "We often want to initialize values to be consecutive numbers,\n",
    "e.g., we might want all numbers between $0$ and $10$ in increments of $.2$.\n",
    "We can do this in numpy ny using the `arange` function to construct an ndarray.\n",
    "It functions similarly to Python ranges but\n",
    "(i) creates an ndarray, not a `range` object;\n",
    "and (ii) can handle fractional increments."
   ]
  },
  {
   "cell_type": "code",
   "execution_count": 57,
   "metadata": {},
   "outputs": [
    {
     "data": {
      "text/plain": [
       "array([0. , 0.2, 0.4, 0.6, 0.8, 1. , 1.2, 1.4, 1.6, 1.8, 2. , 2.2, 2.4,\n",
       "       2.6, 2.8, 3. , 3.2, 3.4, 3.6, 3.8, 4. , 4.2, 4.4, 4.6, 4.8, 5. ,\n",
       "       5.2, 5.4, 5.6, 5.8, 6. , 6.2, 6.4, 6.6, 6.8, 7. , 7.2, 7.4, 7.6,\n",
       "       7.8, 8. , 8.2, 8.4, 8.6, 8.8, 9. , 9.2, 9.4, 9.6, 9.8])"
      ]
     },
     "execution_count": 57,
     "metadata": {},
     "output_type": "execute_result"
    }
   ],
   "source": [
    "np.arange(0,10, .2)"
   ]
  },
  {
   "cell_type": "markdown",
   "metadata": {},
   "source": [
    "## Random numbers\n",
    "We can also create `ndarrays` populated with random numbers.\n",
    "Numpy provides a whole sub-library to handle randomness. \n",
    "Aptly it lives in `np.random` and includes functions \n",
    "for creating arrays populated according to many popular distributions\n",
    "including binomial, Dirichlet, gamma, exponential, multinomial, \n",
    "normal, pareto, uniform, weibull, etc.\n",
    "One convenient function `np.random.randn()`\n",
    "allows us to sample number from a standard (isotropic) Gaussian \n",
    "an `ndarray` with a given shape. \n",
    "Strangely here, we don't have to pack up the shape in a tuple.\n",
    "Be careful that this is different from how we create a list of zeros or ones."
   ]
  },
  {
   "cell_type": "code",
   "execution_count": 63,
   "metadata": {},
   "outputs": [
    {
     "data": {
      "text/plain": [
       "array([[ 0.20809148, -0.31867457,  0.35556272,  1.38979668,  0.02263045,\n",
       "        -0.29595989,  1.1094042 ,  0.27528824,  0.31161249,  0.52016895],\n",
       "       [ 0.12143637,  0.86086166, -0.47710981,  0.9740589 ,  0.05434734,\n",
       "         0.71645625, -0.18504702,  0.02060288,  0.31328557,  2.24053907],\n",
       "       [ 1.31326439,  0.90711692, -1.65582049, -0.70284036,  0.28688899,\n",
       "         1.93892638, -0.41170632,  0.31102391, -1.55628503, -1.01273554]])"
      ]
     },
     "execution_count": 63,
     "metadata": {},
     "output_type": "execute_result"
    }
   ],
   "source": [
    "np.random.randn(3, 10)"
   ]
  },
  {
   "cell_type": "markdown",
   "metadata": {},
   "source": [
    "## Element-wise operations\n",
    "\n",
    "All of the basic scalar operations are *lifted* to high-dimensional arrays of equal dimensions. Here, they just operate by performing the operation on each pair of corresponding values. "
   ]
  },
  {
   "cell_type": "code",
   "execution_count": 65,
   "metadata": {},
   "outputs": [],
   "source": [
    "x = np.ones((4,3)) * 3\n",
    "y = np.ones((4,3)) * 2"
   ]
  },
  {
   "cell_type": "code",
   "execution_count": 67,
   "metadata": {},
   "outputs": [
    {
     "name": "stdout",
     "output_type": "stream",
     "text": [
      "x [[3. 3. 3.]\n",
      " [3. 3. 3.]\n",
      " [3. 3. 3.]\n",
      " [3. 3. 3.]]\n",
      "y [[2. 2. 2.]\n",
      " [2. 2. 2.]\n",
      " [2. 2. 2.]\n",
      " [2. 2. 2.]]\n",
      "x + y [[5. 5. 5.]\n",
      " [5. 5. 5.]\n",
      " [5. 5. 5.]\n",
      " [5. 5. 5.]]\n",
      "x * y [[6. 6. 6.]\n",
      " [6. 6. 6.]\n",
      " [6. 6. 6.]\n",
      " [6. 6. 6.]]\n",
      "x / y [[1.5 1.5 1.5]\n",
      " [1.5 1.5 1.5]\n",
      " [1.5 1.5 1.5]\n",
      " [1.5 1.5 1.5]]\n",
      "x ** y [[9. 9. 9.]\n",
      " [9. 9. 9.]\n",
      " [9. 9. 9.]\n",
      " [9. 9. 9.]]\n"
     ]
    }
   ],
   "source": [
    "print(\"x\", x)\n",
    "print(\"y\", y)\n",
    "print(\"x + y\", x + y)\n",
    "print(\"x * y\", x * y)\n",
    "print(\"x / y\", x / y)\n",
    "print(\"x ** y\", x ** y)"
   ]
  },
  {
   "cell_type": "markdown",
   "metadata": {},
   "source": [
    "We can also lift unary operators to matrix operations. \n",
    "For example, `np.exp` will exponentiate each element in a matrix $b_{ij} = e^{a_{ij}}$:"
   ]
  },
  {
   "cell_type": "code",
   "execution_count": 68,
   "metadata": {},
   "outputs": [
    {
     "data": {
      "text/plain": [
       "array([[20.08553692, 20.08553692, 20.08553692],\n",
       "       [20.08553692, 20.08553692, 20.08553692],\n",
       "       [20.08553692, 20.08553692, 20.08553692],\n",
       "       [20.08553692, 20.08553692, 20.08553692]])"
      ]
     },
     "execution_count": 68,
     "metadata": {},
     "output_type": "execute_result"
    }
   ],
   "source": [
    "np.exp(x)"
   ]
  },
  {
   "cell_type": "markdown",
   "metadata": {},
   "source": [
    "## Broadcasting\n",
    "\n",
    "We can add or multiply scalars by matrices. Here numpy will just create an array of the same shape as the `ndarray` operand where every value is set equal to the scalar value and then perform the element-wise operation:"
   ]
  },
  {
   "cell_type": "code",
   "execution_count": 71,
   "metadata": {},
   "outputs": [
    {
     "data": {
      "text/plain": [
       "array([ 0,  2,  4,  6,  8, 10, 12, 14, 16, 18])"
      ]
     },
     "execution_count": 71,
     "metadata": {},
     "output_type": "execute_result"
    }
   ],
   "source": [
    "np.arange(10) * 2"
   ]
  },
  {
   "cell_type": "code",
   "execution_count": 72,
   "metadata": {},
   "outputs": [
    {
     "data": {
      "text/plain": [
       "array([ 1,  2,  3,  4,  5,  6,  7,  8,  9, 10])"
      ]
     },
     "execution_count": 72,
     "metadata": {},
     "output_type": "execute_result"
    }
   ],
   "source": [
    "np.arange(10) + 1"
   ]
  },
  {
   "cell_type": "markdown",
   "metadata": {},
   "source": [
    "If we try to perform an operation on a 1D ndarray and a 2D ndarray, numpy will try to broadcast along the missing axis to make the operands be of the same shape. However, if the matrix is square and the ndarray to be broadcasted is 1D without an explicit axis of length 1, be careful that you know along which dimension it will be broadcasted. Consider the following:"
   ]
  },
  {
   "cell_type": "code",
   "execution_count": 76,
   "metadata": {},
   "outputs": [
    {
     "name": "stdout",
     "output_type": "stream",
     "text": [
      "[[0 1 2]\n",
      " [3 4 5]\n",
      " [6 7 8]]\n",
      "[[3 3 3]\n",
      " [6 6 6]\n",
      " [9 9 9]]\n",
      "[[3 3 3]\n",
      " [6 6 6]\n",
      " [9 9 9]]\n",
      "[[3 4 5]\n",
      " [5 6 7]\n",
      " [7 8 9]]\n"
     ]
    }
   ],
   "source": [
    "x2 = np.arange(9).reshape((3,3))\n",
    "print(x2)\n",
    "\n",
    "vec2 = np.array([3,2,1])\n",
    "print(x2 + vec2)\n",
    "print(x2 + vec2.reshape((1,3)))\n",
    "print(x2 + vec2.reshape((3,1)))"
   ]
  },
  {
   "cell_type": "markdown",
   "metadata": {},
   "source": [
    "## Basic Linear Algebra"
   ]
  },
  {
   "cell_type": "code",
   "execution_count": 77,
   "metadata": {},
   "outputs": [
    {
     "name": "stdout",
     "output_type": "stream",
     "text": [
      "[[0 1 2]\n",
      " [3 4 5]\n",
      " [6 7 8]]\n",
      "[[0 3 6]\n",
      " [1 4 7]\n",
      " [2 5 8]]\n"
     ]
    }
   ],
   "source": [
    "print(x2)\n",
    "print(x2.T)"
   ]
  },
  {
   "cell_type": "code",
   "execution_count": 86,
   "metadata": {},
   "outputs": [
    {
     "name": "stdout",
     "output_type": "stream",
     "text": [
      "[1 2 3]\n"
     ]
    },
    {
     "data": {
      "text/plain": [
       "14"
      ]
     },
     "execution_count": 86,
     "metadata": {},
     "output_type": "execute_result"
    }
   ],
   "source": [
    "vec3 = np.arange(1,4)\n",
    "print(vec3)\n",
    "np.dot(vec3, vec3)"
   ]
  },
  {
   "cell_type": "markdown",
   "metadata": {},
   "source": [
    "### Matrix-vector product"
   ]
  },
  {
   "cell_type": "code",
   "execution_count": 88,
   "metadata": {},
   "outputs": [
    {
     "data": {
      "text/plain": [
       "array([ 8, 26, 44])"
      ]
     },
     "execution_count": 88,
     "metadata": {},
     "output_type": "execute_result"
    }
   ],
   "source": [
    "np.dot(x2, vec3)"
   ]
  },
  {
   "cell_type": "markdown",
   "metadata": {},
   "source": [
    "### Matrix-matrix product"
   ]
  },
  {
   "cell_type": "code",
   "execution_count": 89,
   "metadata": {},
   "outputs": [
    {
     "data": {
      "text/plain": [
       "array([[  5,  14,  23],\n",
       "       [ 14,  50,  86],\n",
       "       [ 23,  86, 149]])"
      ]
     },
     "execution_count": 89,
     "metadata": {},
     "output_type": "execute_result"
    }
   ],
   "source": [
    "np.dot(x2, x2.T)"
   ]
  },
  {
   "cell_type": "markdown",
   "metadata": {},
   "source": [
    "### Eigenvalue decomposition"
   ]
  },
  {
   "cell_type": "code",
   "execution_count": 91,
   "metadata": {},
   "outputs": [
    {
     "data": {
      "text/plain": [
       "(array([ 1.33484692e+01, -1.34846923e+00, -2.48477279e-16]),\n",
       " array([[ 0.16476382,  0.79969966,  0.40824829],\n",
       "        [ 0.50577448,  0.10420579, -0.81649658],\n",
       "        [ 0.84678513, -0.59128809,  0.40824829]]))"
      ]
     },
     "execution_count": 91,
     "metadata": {},
     "output_type": "execute_result"
    }
   ],
   "source": [
    "np.linalg.eig(x2)"
   ]
  },
  {
   "cell_type": "markdown",
   "metadata": {},
   "source": [
    "### Matrix inverse"
   ]
  },
  {
   "cell_type": "code",
   "execution_count": 96,
   "metadata": {},
   "outputs": [
    {
     "name": "stdout",
     "output_type": "stream",
     "text": [
      "[[-0.23316062  0.61139896 -0.55958549]\n",
      " [ 0.09326425  0.15544041 -0.1761658 ]\n",
      " [ 0.29015544 -0.84974093  0.89637306]]\n"
     ]
    }
   ],
   "source": [
    "x3 = [[1,7,2], [13, 4.5, 9], [12, 2, 9]]\n",
    "x3_inv = np.linalg.inv(x3)\n",
    "print(x3_inv)"
   ]
  },
  {
   "cell_type": "markdown",
   "metadata": {},
   "source": [
    "### Speed"
   ]
  },
  {
   "cell_type": "code",
   "execution_count": 97,
   "metadata": {},
   "outputs": [
    {
     "name": "stdout",
     "output_type": "stream",
     "text": [
      "Time elapsed: 1.8881242275238037\n"
     ]
    }
   ],
   "source": [
    "import time\n",
    "list1 = [1] * 10000000\n",
    "list2 = [2] * 10000000\n",
    "\n",
    "start = time.time()\n",
    "list3 = []\n",
    "for i in range(len(list1)):\n",
    "    list3.append(list1[i] + list2[i])\n",
    "end = time.time()\n",
    "print(\"Time elapsed:\", end-start)"
   ]
  },
  {
   "cell_type": "markdown",
   "metadata": {},
   "source": [
    "in numpy..."
   ]
  },
  {
   "cell_type": "code",
   "execution_count": 98,
   "metadata": {},
   "outputs": [
    {
     "name": "stdout",
     "output_type": "stream",
     "text": [
      "Time elapsed: 0.016360044479370117\n"
     ]
    }
   ],
   "source": [
    "npl1= np.ones(10000000)\n",
    "npl2= np.ones(10000000)\n",
    "\n",
    "start = time.time()\n",
    "npl3 = npl1 + npl2\n",
    "end = time.time()\n",
    "print(\"Time elapsed:\", end-start)"
   ]
  },
  {
   "cell_type": "markdown",
   "metadata": {},
   "source": [
    "#### Matmul"
   ]
  },
  {
   "cell_type": "code",
   "execution_count": 99,
   "metadata": {},
   "outputs": [],
   "source": [
    "def matmul(A, B):\n",
    "    N = len(A)\n",
    "    K = len(A[0])\n",
    "    M = len(B[1])\n",
    "    \n",
    "    \n",
    "    C = []\n",
    "    for i in range(N):\n",
    "        C.append([])\n",
    "        \n",
    "    i = 0\n",
    "    for m in range(M):\n",
    "        for n in range(N):\n",
    "            result = 0\n",
    "            for k in range(K):\n",
    "                i+=1\n",
    "#                 print(\"iteration i\", i)\n",
    "                result += A[n][k] * B[k][m]\n",
    "                \n",
    "#             print(\"the result!\", result)\n",
    "            C[n].append(result)\n",
    "    return C"
   ]
  },
  {
   "cell_type": "code",
   "execution_count": 100,
   "metadata": {},
   "outputs": [
    {
     "data": {
      "text/plain": [
       "[[30, 36, 42], [66, 81, 96], [102, 126, 150]]"
      ]
     },
     "execution_count": 100,
     "metadata": {},
     "output_type": "execute_result"
    }
   ],
   "source": [
    "x1 = [[1,2,3],[4,5,6], [7,8,9]]\n",
    "\n",
    "matmul(x1,x1)"
   ]
  },
  {
   "cell_type": "code",
   "execution_count": 102,
   "metadata": {},
   "outputs": [
    {
     "data": {
      "text/plain": [
       "array([[ 30,  36,  42],\n",
       "       [ 66,  81,  96],\n",
       "       [102, 126, 150]])"
      ]
     },
     "execution_count": 102,
     "metadata": {},
     "output_type": "execute_result"
    }
   ],
   "source": [
    "x1np = np.array(x1)\n",
    "np.dot(x1np, x1np)"
   ]
  },
  {
   "cell_type": "code",
   "execution_count": 103,
   "metadata": {},
   "outputs": [
    {
     "name": "stdout",
     "output_type": "stream",
     "text": [
      "Time elapsed: 4.175977945327759\n"
     ]
    }
   ],
   "source": [
    "N = 300\n",
    "A = [[1] * N] * N\n",
    "\n",
    "start = time.time()\n",
    "matmul(A, A)\n",
    "end = time.time()\n",
    "print(\"Time elapsed:\", end-start)"
   ]
  },
  {
   "cell_type": "markdown",
   "metadata": {},
   "source": [
    "in numpy..."
   ]
  },
  {
   "cell_type": "code",
   "execution_count": 104,
   "metadata": {},
   "outputs": [
    {
     "name": "stdout",
     "output_type": "stream",
     "text": [
      "Time elapsed: 0.0010769367218017578\n"
     ]
    }
   ],
   "source": [
    "B = np.ones((N,N))\n",
    "\n",
    "start = time.time()\n",
    "np.dot(B,B)\n",
    "end = time.time()\n",
    "print(\"Time elapsed:\", end-start)"
   ]
  },
  {
   "cell_type": "code",
   "execution_count": null,
   "metadata": {},
   "outputs": [],
   "source": []
  },
  {
   "cell_type": "code",
   "execution_count": null,
   "metadata": {},
   "outputs": [],
   "source": []
  }
 ],
 "metadata": {
  "kernelspec": {
   "display_name": "Python 3",
   "language": "python",
   "name": "python3"
  },
  "language_info": {
   "codemirror_mode": {
    "name": "ipython",
    "version": 3
   },
   "file_extension": ".py",
   "mimetype": "text/x-python",
   "name": "python",
   "nbconvert_exporter": "python",
   "pygments_lexer": "ipython3",
   "version": "3.7.4"
  }
 },
 "nbformat": 4,
 "nbformat_minor": 2
}
