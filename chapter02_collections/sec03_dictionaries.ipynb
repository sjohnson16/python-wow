{
 "cells": [
  {
   "cell_type": "markdown",
   "metadata": {},
   "source": [
    "# Dictionaries\n",
    "\n",
    "If you've gotten your head around lists,\n",
    "then dictionaries are quite easy.\n",
    "While lists are collections that associate *indices* with *values*,\n",
    "dictionaries are simply collections \n",
    "that associate *keys* with *values*\n",
    "where *keys* need not be numbers. \n",
    "For example, we might want a list \n",
    "to associate cars with prices.\n",
    "\n",
    "Just as we can an express a *list literal*, \n",
    "Python also supports *dictionary literals*.\n",
    "We define a dictionary literal by using curly braces: `{...}`,\n",
    "between the braces, we can have any number of `key:value` pairs."
   ]
  },
  {
   "cell_type": "code",
   "execution_count": null,
   "metadata": {},
   "outputs": [],
   "source": [
    "my_dict = {\"Roadster\":200000, \"Model S\":70000, \"Model X\": 100000}\n",
    "print(my_dict)"
   ]
  },
  {
   "cell_type": "markdown",
   "metadata": {},
   "source": [
    "Once we've defined a dictionary, we can \n",
    "get values out using list-like indexing `[]`.\n",
    "Here, instead of indexing with a number, we index with a *key*:"
   ]
  },
  {
   "cell_type": "code",
   "execution_count": null,
   "metadata": {},
   "outputs": [],
   "source": [
    "my_dict[\"Roadster\"]"
   ]
  },
  {
   "cell_type": "markdown",
   "metadata": {},
   "source": [
    "## Adding a key-value pair\n",
    "\n",
    "We can add a new key-value pair to the dictionary as follows:"
   ]
  },
  {
   "cell_type": "code",
   "execution_count": null,
   "metadata": {},
   "outputs": [],
   "source": [
    "my_dict[\"Model 3\"] = 35000"
   ]
  },
  {
   "cell_type": "markdown",
   "metadata": {},
   "source": [
    "## Extracting dictionary items/keys as lists\n",
    "\n",
    "We can extract all items (key, value) tuples from a dictionary \n",
    "as a list by using the `.items()` method."
   ]
  },
  {
   "cell_type": "code",
   "execution_count": null,
   "metadata": {},
   "outputs": [],
   "source": [
    "my_dict.items()"
   ]
  },
  {
   "cell_type": "markdown",
   "metadata": {},
   "source": [
    "### What is dict_items?\n",
    "Note that the items returned by `.items()` are not an ordinary list but rather this new object called by the peculiar name `dict_items`. \n",
    "Notably this object is a view of a particular dictionary \n",
    "and is still attached ot the dictionary that created it.\n",
    "For example, if we access the `dict_items` and assign it to a variable,\n",
    "and then subsequently add an item to the dictionary,\n",
    "the `dict_items` object will be updated accordingly:"
   ]
  },
  {
   "cell_type": "code",
   "execution_count": null,
   "metadata": {},
   "outputs": [],
   "source": [
    "cars = my_dict.items()\n",
    "my_dict[\"Semi\"] = 300000\n",
    "print(cars)"
   ]
  },
  {
   "cell_type": "markdown",
   "metadata": {},
   "source": [
    "Notably, if we first casted the my_dict to a list with `list(my_dict.items())`,\n",
    "then it would not have been updated when the dictionary got updated."
   ]
  },
  {
   "cell_type": "markdown",
   "metadata": {},
   "source": [
    "### Keys\n",
    "When we just want to access the keys, we can call the `.keys()` method."
   ]
  },
  {
   "cell_type": "code",
   "execution_count": null,
   "metadata": {},
   "outputs": [],
   "source": [
    "my_dict.keys()"
   ]
  },
  {
   "cell_type": "markdown",
   "metadata": {},
   "source": [
    "## Some more on views\n",
    "\n",
    "You might have noticed that dict.keys() returns a `dict_keys` object. \n",
    "And you might be wondering, what sort of object is a `dict_keys`? \n",
    "\n",
    "Indeed, in past versions of Python, `.keys()` would return a list,\n",
    "in Python 3 it returns a *dictionary view object*. \n",
    "Dictionary view objects (per the [official documentation here](https://docs.python.org/3/library/stdtypes.html#dictionary-view-objects))\n",
    "are **dynamic** views on the entries in a dictionary.\n",
    "\n",
    "Again, although the result looks like a list, \n",
    "and we can manipulate it like a list,\n",
    "when the underlying dictionary is updated, \n",
    "so does the dictionary view object.\n",
    "Let's demonstrate this with an example in code:"
   ]
  },
  {
   "cell_type": "code",
   "execution_count": null,
   "metadata": {},
   "outputs": [],
   "source": [
    "x = my_dict.keys()\n",
    "x"
   ]
  },
  {
   "cell_type": "code",
   "execution_count": null,
   "metadata": {},
   "outputs": [],
   "source": [
    "my_dict[\"Model Y\"] = 190000"
   ]
  },
  {
   "cell_type": "code",
   "execution_count": null,
   "metadata": {},
   "outputs": [],
   "source": [
    "x"
   ]
  }
 ],
 "metadata": {
  "kernelspec": {
   "display_name": "Python 3",
   "language": "python",
   "name": "python3"
  },
  "language_info": {
   "codemirror_mode": {
    "name": "ipython",
    "version": 3
   },
   "file_extension": ".py",
   "mimetype": "text/x-python",
   "name": "python",
   "nbconvert_exporter": "python",
   "pygments_lexer": "ipython3",
   "version": "3.7.4"
  }
 },
 "nbformat": 4,
 "nbformat_minor": 2
}
