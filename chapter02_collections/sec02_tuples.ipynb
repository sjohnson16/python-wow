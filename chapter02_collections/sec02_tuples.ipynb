{
 "cells": [
  {
   "cell_type": "markdown",
   "metadata": {},
   "source": [
    "# Tuples\n",
    "If you understand lists, then tuples will really be a breeze.\n",
    "Tuples behave almost exactly like lists in many respects \n",
    "but offer only a subset of their functionality.\n",
    "\n",
    "In particular, unlike lists which are *mutable*\n",
    "(elements can be assigned, added, or deleted),\n",
    "lists are *immutable* meaning that they point \n",
    "to a fixed set of objects that cannot \n",
    "change after they have been created.\n",
    "\n",
    "In fact, tuples and lists are so similar\n",
    "that its often confusing for newcomers \n",
    "for whom it is not readily clear \n",
    "why Python supports both datastructures. \n",
    "\n",
    "To start, let's create a tuple. \n",
    "In Python tuple literals are defined just as lists\n",
    "but using parenthesis `(...)` instead of square brackets `[]`:"
   ]
  },
  {
   "cell_type": "code",
   "execution_count": null,
   "metadata": {},
   "outputs": [],
   "source": [
    "my_tuple = (print, 5.0, \"clown\", [\"a\", \"b\", \"c\"])"
   ]
  },
  {
   "cell_type": "markdown",
   "metadata": {},
   "source": [
    "Here we've crearted a tuple with 4 elements:\n",
    "the `print` function, the float `5.0`, \n",
    "the string `\"clown\"` and the list `[\"a\", \"b\", \"c\"]`.\n",
    "Just as with lists we can index into a tuple,\n",
    "and we can also access a sub-tuple via slicing:"
   ]
  },
  {
   "cell_type": "code",
   "execution_count": null,
   "metadata": {},
   "outputs": [],
   "source": [
    "print(my_tuple[1])\n",
    "print(my_tuple[1:3])\n",
    "print(my_tuple[-2:])"
   ]
  },
  {
   "cell_type": "markdown",
   "metadata": {},
   "source": [
    "However, crucially, we cannot change the objects that a tuple refers to.\n",
    "Note, for example, the error that we get if we try to replace `\"clown\"`\n",
    "with some other string."
   ]
  },
  {
   "cell_type": "code",
   "execution_count": null,
   "metadata": {},
   "outputs": [],
   "source": [
    "my_tuple[-2] = \"jester\""
   ]
  },
  {
   "cell_type": "markdown",
   "metadata": {},
   "source": [
    "We will also get an error if we attempt to append an item\n",
    "informing us that tuple objects have no append method:\n",
    "\n",
    "```AttributeError: 'tuple' object has no attribute 'append'```"
   ]
  },
  {
   "cell_type": "markdown",
   "metadata": {},
   "source": [
    "### Concatenating tuples\n",
    "However, tuples do support concatenation. \n",
    "That's kosher because concatenation does not alter either tuple,\n",
    "but instead returns a new tuple which is the result of the operation:"
   ]
  },
  {
   "cell_type": "code",
   "execution_count": null,
   "metadata": {},
   "outputs": [],
   "source": [
    "(1,2,3) + (\"a\", \"b\", \"c\")"
   ]
  },
  {
   "cell_type": "markdown",
   "metadata": {},
   "source": [
    "If we want to concatenate a list and a tuple, \n",
    "we must first either cast the list as a tuple\n",
    "or cast the tuple as a list:"
   ]
  },
  {
   "cell_type": "code",
   "execution_count": null,
   "metadata": {},
   "outputs": [],
   "source": [
    "print(list((1,2,3)) + [\"a\", \"b\", \"c\"])\n",
    "print((1,2,3) + tuple([\"a\", \"b\", \"c\"]))"
   ]
  },
  {
   "cell_type": "markdown",
   "metadata": {},
   "source": [
    "### Other supported operations\n",
    "A variety of other familiar operations \n",
    "supported by lists are supported by tuples\n",
    "(those that do not mutate the object).\n",
    "These include the `in` operation\n",
    "for identifying membership:"
   ]
  },
  {
   "cell_type": "code",
   "execution_count": null,
   "metadata": {},
   "outputs": [],
   "source": [
    "\"mango\" in (\"lemon\", \"mango\", \"nectarine\")"
   ]
  },
  {
   "cell_type": "markdown",
   "metadata": {},
   "source": [
    "This also includes looking up the index of an item."
   ]
  },
  {
   "cell_type": "code",
   "execution_count": null,
   "metadata": {},
   "outputs": [],
   "source": [
    "(\"lemon\", \"mango\", \"nectarine\").index(\"mango\")"
   ]
  },
  {
   "cell_type": "markdown",
   "metadata": {},
   "source": [
    "## Common uses of tuples\n",
    "Tuples are useful for a variety opf reasons and in a variety of contexts:\n",
    " * Tuples are faster than lists. Because they needn't support the capability of changing lenghths, they can be implemented more efficiently.\n",
    " * Tuples can be used to prevent misuse of the object in situations where the object truly needs to be immutable. \n",
    " * Return values of functions (see more in chapter 4) are typically tuples."
   ]
  }
 ],
 "metadata": {
  "kernelspec": {
   "display_name": "Python 3",
   "language": "python",
   "name": "python3"
  },
  "language_info": {
   "codemirror_mode": {
    "name": "ipython",
    "version": 3
   },
   "file_extension": ".py",
   "mimetype": "text/x-python",
   "name": "python",
   "nbconvert_exporter": "python",
   "pygments_lexer": "ipython3",
   "version": "3.7.4"
  }
 },
 "nbformat": 4,
 "nbformat_minor": 2
}
