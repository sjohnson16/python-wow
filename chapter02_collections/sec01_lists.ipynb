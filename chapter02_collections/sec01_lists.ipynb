{
 "cells": [
  {
   "cell_type": "markdown",
   "metadata": {},
   "source": [
    "# Lists\n",
    "\n",
    "While we've learned a lot about Pythons' *primitive* values\n",
    "including `int`, `float`, `str`, and `bool`,\n",
    "there's more to programming than writing lines of code \n",
    "to individually manipulate these indivisible \n",
    "(more formally called *atomic*) beads of information.\n",
    "\n",
    "Rather than writing code to manipulate each item a la carte,\n",
    "we will instead want to organize our data in various \n",
    "structures, sometimes called *collections*,\n",
    "in part to facilitate acting upon the whole collection subsequently.\n",
    "\n",
    "We often want to collect a bunch of *related* values together,\n",
    "so we can manipulate them all together.\n",
    "Imagine, for eample that you are scraping the web. \n",
    "Then you might have a list of 10,000 addresses that you need to scrape.\n",
    "One the other hand, if we were keeping track of public health trends,\n",
    "then we might want some way to represent a collection of test results,\n",
    "where each result represents one member of the population.\n",
    "\n",
    "The most simple and natural collections \n",
    "to work with in Python are `list` objects.\n",
    "They represent a collection of values, in some specified **order**.\n",
    "The most simple way to work with a list \n",
    "is to write one down directly in code as a *list literal*.\n",
    "We do this by placing to brackets (`'[`, `]`) \n",
    "with some comma-separated values in between:"
   ]
  },
  {
   "cell_type": "code",
   "execution_count": null,
   "metadata": {},
   "outputs": [],
   "source": [
    "my_list = [13, 2, 3, 1, 8, 5, 1]"
   ]
  },
  {
   "cell_type": "markdown",
   "metadata": {},
   "source": [
    "## Accessing from a list \n",
    "\n",
    "Now that we've defined this list, we can access its values in the following ways. \n",
    "\n",
    "### Printing lists"
   ]
  },
  {
   "cell_type": "code",
   "execution_count": null,
   "metadata": {},
   "outputs": [],
   "source": [
    "print(my_list)"
   ]
  },
  {
   "cell_type": "markdown",
   "metadata": {},
   "source": [
    "### Indexing into a list\n",
    "\n",
    "We can access its elements by their indices using bracket notation `my_list[<index>]`"
   ]
  },
  {
   "cell_type": "code",
   "execution_count": null,
   "metadata": {},
   "outputs": [],
   "source": [
    "print(my_list[1])\n",
    "print(my_list[2])"
   ]
  },
  {
   "cell_type": "markdown",
   "metadata": {},
   "source": [
    "Notice that in bracket notation, we supply an *index* inside the brackets. \n",
    "The index indicates which element of the list we are retrieving.\n",
    "Each element is associated with an index based on its location, \n",
    "i.e., where it appears in the list.\n",
    "\n",
    "***Note also that all lists start with index 0***"
   ]
  },
  {
   "cell_type": "code",
   "execution_count": null,
   "metadata": {},
   "outputs": [],
   "source": [
    "print(my_list[0])"
   ]
  },
  {
   "cell_type": "markdown",
   "metadata": {},
   "source": [
    "***Side note:*** For reasons we don't need to get into,\n",
    "indexing at 0 is a sensible convention for indexing items in arrays.\n",
    "This owes to historical reasons that are more readily seen\n",
    "in programming languages like C that are a bit closer to the metal.\n",
    "There, an array is basically a block of consecutive memory locations.\n",
    "In C, our reference to an array is a reference to the first item in the list.\n",
    "Each index then indicates the offset of that item relative to the first item.\n",
    "The index of 0 means go to the head of list and then do not advance any further.\n",
    "An index of 1 means go to the head of the list and then advance one item down the list.\n",
    "\n",
    "While indexing at 0 is a widespread standard that most languages adopt,\n",
    "the reasons for it do not matter so much in modern interpreted languages.\n",
    "Indeed, not all languages follow the convention.\n",
    "Julia, a wonderful language developed at MIT\n",
    "specifically for mathematical computing indexes at 1,\n",
    "to better match how we talk about collections of items in math notation,\n",
    "and so does MatLab (a proprietary language that is almost affordable to academics\n",
    "but costs one kidney per license upon graduation). \n",
    "\n",
    "Given list of unknown length, we often need to find out its length\n",
    "in order to know *which indices are valid*.\n",
    "We can do that using  Python's built-in `len` function:,\n",
    "the same as we used to calculate the length of strings:"
   ]
  },
  {
   "cell_type": "code",
   "execution_count": null,
   "metadata": {},
   "outputs": [],
   "source": [
    "len(my_list)"
   ]
  },
  {
   "cell_type": "markdown",
   "metadata": {},
   "source": [
    "Note that because the list indices start at `0`, \n",
    "the last element has index `len(mylist-1)`:"
   ]
  },
  {
   "cell_type": "code",
   "execution_count": null,
   "metadata": {},
   "outputs": [],
   "source": [
    "print(my_list[len(my_list) - 1])"
   ]
  },
  {
   "cell_type": "markdown",
   "metadata": {},
   "source": [
    "If we try to access any index larger than that we'll get an error that looks like this:\n",
    "\n",
    "```\n",
    "---------------------------------------------------------------------------\n",
    "IndexError                                Traceback (most recent call last)\n",
    "<ipython-input-15-bf67fb38c3b1> in <module>()\n",
    "----> 1 print(my_list[len(my_list)])\n",
    "\n",
    "IndexError: list index out of range\n",
    "```"
   ]
  },
  {
   "cell_type": "markdown",
   "metadata": {},
   "source": [
    "### Negative Indexing\n",
    "\n",
    "We can use negative indices where `my_list[-i]`\n",
    "is shorthand for `my_list[len(my_list)-i]`\n",
    "To access the last element of the list we can use index `[-1]`, \n",
    "and to access the 2nd to last element, we can use `[-2]`, etc. "
   ]
  },
  {
   "cell_type": "markdown",
   "metadata": {},
   "source": [
    "### Slicing Lists\n",
    "\n",
    "Sometimes we want to access a continuous stretch of values from within our lists. \n",
    "To indicate that we want to extract a whole range of indices,\n",
    "we insert a colon into our index notation with notatino like `my_list[start:end]`:"
   ]
  },
  {
   "cell_type": "code",
   "execution_count": null,
   "metadata": {},
   "outputs": [],
   "source": [
    "print(my_list[4:6])"
   ]
  },
  {
   "cell_type": "markdown",
   "metadata": {},
   "source": [
    "Note that slices are inclusive on the left, but not on the right, \n",
    "e.g., [4:6] gives us a list that includes the elements \n",
    "with index 4 and index 5, but not index 6.\n",
    "\n",
    "This is useful because it makes it easy to split lists into two halves:"
   ]
  },
  {
   "cell_type": "code",
   "execution_count": null,
   "metadata": {},
   "outputs": [],
   "source": [
    "split_point = 4\n",
    "print(my_list[:split_point])\n",
    "print(my_list[split_point:])"
   ]
  },
  {
   "cell_type": "markdown",
   "metadata": {},
   "source": [
    "Notice above that we used one nice additional Python slicing feature. \n",
    "When we use `[:end]`, Python will assume \n",
    "that we start at the beginning of the list, \n",
    "thus is equivalent to `[0:end]`. \n",
    "Similarly, when we invoke `[end:]`, Python will assume \n",
    "that we are going all the way to the end of the list, \n",
    "and thus this is equivalent to `[end:len(my_list)]`."
   ]
  },
  {
   "cell_type": "markdown",
   "metadata": {},
   "source": [
    "## Lists and Strings\n",
    "\n",
    "You might notice that lists and strings have some things in common.\n",
    "Unlike integers or floats, strings and lists can be of various lengths.\n",
    "Moreover supports the `len()` function.\n",
    "\n",
    "The similarities don't end there. \n",
    "In many programming languages, text strings \n",
    "are expicitly defined as arrays of characters.\n",
    "In Python, while there is no dedicated, separate character type,\n",
    "the list-like nature of strings remains. \n",
    "\n",
    "For starters, we can access indices or slices of strings:"
   ]
  },
  {
   "cell_type": "code",
   "execution_count": null,
   "metadata": {},
   "outputs": [],
   "source": [
    "\"This is a string, I wrote it myself!\"[-18:]"
   ]
  },
  {
   "cell_type": "markdown",
   "metadata": {},
   "source": [
    "Similarly, just as we can concatenate two strings together, \n",
    "we can concatenate two lists together:"
   ]
  },
  {
   "cell_type": "code",
   "execution_count": null,
   "metadata": {},
   "outputs": [],
   "source": [
    "[1, 1, 2, 3] + [5, 8, 13, 21]"
   ]
  },
  {
   "cell_type": "markdown",
   "metadata": {},
   "source": [
    "## Updating elements\n",
    "\n",
    "Sometimes we'll want to update a single element in a list\n",
    "while keeping all others the same.\n",
    "This is easy, using `[index]` notation,\n",
    "we just a sign a new value to that index:"
   ]
  },
  {
   "cell_type": "code",
   "execution_count": null,
   "metadata": {},
   "outputs": [],
   "source": [
    "my_list2 = my_list\n",
    "my_list2[1] = 1985\n",
    "print(\"my_list2: \", my_list2)"
   ]
  },
  {
   "cell_type": "markdown",
   "metadata": {},
   "source": [
    "We might have thought that we were very clever and by creating the variable `my_list2`, avoided messing up the original `my_list`, let's check to see how successful we were:"
   ]
  },
  {
   "cell_type": "code",
   "execution_count": null,
   "metadata": {},
   "outputs": [],
   "source": [
    "print(\"my_list:  \", my_list)\n",
    "print(\"my_list2: \", my_list2)"
   ]
  },
  {
   "cell_type": "markdown",
   "metadata": {},
   "source": [
    "Not very! See, when we assign `var = some_list`, \n",
    "we're not actually making a copy of the list. \n",
    "Instead, we are assigning a *reference* to **the same list**! \n",
    "To really make a copy, we'll want to use the `copy` package \n",
    "and call the `deepcopy` function:"
   ]
  },
  {
   "cell_type": "code",
   "execution_count": null,
   "metadata": {},
   "outputs": [],
   "source": [
    "import copy\n",
    "my_list2 = copy.deepcopy(my_list)\n",
    "my_list[1] = 2\n",
    "print(\"my_list:  \", my_list)\n",
    "print(\"my_list2: \", my_list2)"
   ]
  },
  {
   "cell_type": "markdown",
   "metadata": {},
   "source": [
    "## Appending items to a List\n",
    "\n",
    "Often, we don't want to just update an item in place, \n",
    "we'll actually want to grow the list to accomodate new data. \n",
    "The easiest way to do this is with the `append` function:"
   ]
  },
  {
   "cell_type": "code",
   "execution_count": null,
   "metadata": {},
   "outputs": [],
   "source": [
    "my_list.append(21)\n",
    "print(\"my_list\", my_list)"
   ]
  },
  {
   "cell_type": "markdown",
   "metadata": {},
   "source": [
    "## Removing items from a list\n",
    "\n",
    "There are a few options for how to remove items from lists.\n",
    "One way is to call the lists `.pop()` method \n",
    "which takes an index as input and simultaneously ***removes and returns*** that element.\n",
    "If we call `.pop()` without providing any index as an argument\n",
    "it will default to removing the last element of the list.\n",
    "Appending and popping corresponds to using our list as a *stack*.\n",
    "Stacks are useful when we want to access data \n",
    "in a last in, first out format. \n",
    "\n",
    "I tend to access my emails in a stack-like fashion, \n",
    "but unfortunately that means that email that gets buried\n",
    "for over a week may never see the light of day."
   ]
  },
  {
   "cell_type": "code",
   "execution_count": null,
   "metadata": {},
   "outputs": [],
   "source": [
    "print(my_list2)\n",
    "x = my_list2.pop(1)\n",
    "print(my_list2)"
   ]
  },
  {
   "cell_type": "markdown",
   "metadata": {},
   "source": [
    "## Sorting and reversing\n",
    "Finally, you might want to take a list \n",
    "and sort it according to some ordering.\n",
    "To sort according to whatever ordering is default\n",
    "(alphabetical for strings, numeric for numbers),\n",
    "just call a list's `.sort()` method. "
   ]
  },
  {
   "cell_type": "code",
   "execution_count": null,
   "metadata": {},
   "outputs": [],
   "source": [
    "my_list.sort()\n",
    "my_list"
   ]
  },
  {
   "cell_type": "markdown",
   "metadata": {},
   "source": [
    "Note that `.sort()` actually changes the order of the items in the list.\n",
    "After calling sort, my_list is now permanently sorted\n",
    "and we have lost all information about the original\n",
    "order in which the iterms appeared. \n",
    "\n",
    "If you would only like to temporarily access the items in sorted order\n",
    "but do not want to disturb the original list, \n",
    "you can call the `sorted()` function which will \n",
    "return a sorted version of the list while leaving the original untouched."
   ]
  },
  {
   "cell_type": "markdown",
   "metadata": {},
   "source": [
    "We can also reverse the order of elements in a list by using the `.reverse()` method."
   ]
  },
  {
   "cell_type": "code",
   "execution_count": null,
   "metadata": {},
   "outputs": [],
   "source": [
    "my_list.reverse()\n",
    "my_list"
   ]
  },
  {
   "cell_type": "markdown",
   "metadata": {},
   "source": [
    "## Checking membership \n",
    "\n",
    "Sometimes we want to check to see if a given value is represented in a list. \n",
    "We can do this using the built-in syntax `<element> in <list>`.\n",
    "This is a Boolean function that returns True if the element \n",
    "is one of the values contained in the list and False otherwise."
   ]
  },
  {
   "cell_type": "code",
   "execution_count": null,
   "metadata": {},
   "outputs": [],
   "source": [
    "print(13 in my_list)\n",
    "print(\"rhinocerous\" in my_list)"
   ]
  },
  {
   "cell_type": "markdown",
   "metadata": {},
   "source": [
    "### Other list methods\n",
    "\n",
    "Lists support a number of other methods. These include `.extend(other_list)`\n",
    "which works similarly to `.append()` but instead of appending a single element,\n",
    "it takes a number of elements in another list and adds them all to our list.\n",
    "\n",
    "In general, you will not remember every method or attribute of every object,\n",
    "and even when you do remember one, you may forget precisely what it is called\n",
    "or precisely how to use it. \n",
    "\n",
    "Thus now is a good time to introduce two handy utilities that we can call in Jupyter.\n",
    "First, we can call `dir()` on any object to access its full listing of attributes and methods.\n",
    "Below you can run `dir(\"Hello\")` to see the methods associated with a string,\n",
    "including the familiar `lower`, `upper`, and `title`. \n",
    "You can also call `dir([1,2,3])` to see the full set of methods associated with a list."
   ]
  },
  {
   "cell_type": "code",
   "execution_count": null,
   "metadata": {},
   "outputs": [],
   "source": [
    "# dir(\"Hello\")\n",
    "# dir([1,2,3])"
   ]
  }
 ],
 "metadata": {
  "kernelspec": {
   "display_name": "Python 3",
   "language": "python",
   "name": "python3"
  },
  "language_info": {
   "codemirror_mode": {
    "name": "ipython",
    "version": 3
   },
   "file_extension": ".py",
   "mimetype": "text/x-python",
   "name": "python",
   "nbconvert_exporter": "python",
   "pygments_lexer": "ipython3",
   "version": "3.7.4"
  }
 },
 "nbformat": 4,
 "nbformat_minor": 2
}
